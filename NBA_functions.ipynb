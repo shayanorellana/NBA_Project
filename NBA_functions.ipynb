{
 "cells": [
  {
   "cell_type": "code",
   "execution_count": 1,
   "metadata": {},
   "outputs": [],
   "source": [
    "import numpy as np\n",
    "import pandas as pd\n",
    "import json\n",
    "import ast\n",
    "import re"
   ]
  },
  {
   "cell_type": "code",
   "execution_count": 2,
   "metadata": {},
   "outputs": [],
   "source": [
    "from nba_api.stats.static import players\n",
    "from nba_api.stats.static import teams\n",
    "from nba_api.stats.endpoints import playergamelog, teamgamelog\n",
    "from nba_api.stats.endpoints import BoxScoreDefensive\n",
    "from nba_api.stats.library import data\n",
    "from nba_api.stats.endpoints import commonallplayers\n",
    "from nba_api.stats.endpoints import boxscorematchups\n",
    "\n",
    "pd.set_option('display.max_columns', None)"
   ]
  },
  {
   "cell_type": "code",
   "execution_count": 3,
   "metadata": {},
   "outputs": [],
   "source": [
    "player_dict = players.get_players()"
   ]
  },
  {
   "cell_type": "code",
   "execution_count": 5,
   "metadata": {},
   "outputs": [],
   "source": [
    "steph = [player for player in player_dict if player['full_name'] == 'Stephen Curry'][0]"
   ]
  },
  {
   "cell_type": "code",
   "execution_count": 6,
   "metadata": {},
   "outputs": [
    {
     "data": {
      "text/plain": [
       "{'id': 201939,\n",
       " 'full_name': 'Stephen Curry',\n",
       " 'first_name': 'Stephen',\n",
       " 'last_name': 'Curry',\n",
       " 'is_active': True}"
      ]
     },
     "execution_count": 6,
     "metadata": {},
     "output_type": "execute_result"
    }
   ],
   "source": [
    "steph"
   ]
  },
  {
   "cell_type": "code",
   "execution_count": 7,
   "metadata": {},
   "outputs": [],
   "source": [
    "steph_id = steph['id']"
   ]
  },
  {
   "cell_type": "code",
   "execution_count": 8,
   "metadata": {},
   "outputs": [],
   "source": [
    "team_dict = teams.get_teams()"
   ]
  },
  {
   "cell_type": "code",
   "execution_count": 10,
   "metadata": {},
   "outputs": [],
   "source": [
    "gsw = [team for team in team_dict if team['abbreviation'] == \"GSW\"][0]"
   ]
  },
  {
   "cell_type": "code",
   "execution_count": 11,
   "metadata": {},
   "outputs": [],
   "source": [
    "gsw_id = gsw['id']"
   ]
  },
  {
   "cell_type": "code",
   "execution_count": 13,
   "metadata": {},
   "outputs": [],
   "source": [
    "warriors_gl = teamgamelog.TeamGameLog(gsw_id)"
   ]
  },
  {
   "cell_type": "code",
   "execution_count": 14,
   "metadata": {
    "scrolled": true
   },
   "outputs": [],
   "source": [
    "warriors_20_df = warriors_gl.get_data_frames()[0]"
   ]
  },
  {
   "cell_type": "code",
   "execution_count": 15,
   "metadata": {},
   "outputs": [
    {
     "data": {
      "text/html": [
       "<div>\n",
       "<style scoped>\n",
       "    .dataframe tbody tr th:only-of-type {\n",
       "        vertical-align: middle;\n",
       "    }\n",
       "\n",
       "    .dataframe tbody tr th {\n",
       "        vertical-align: top;\n",
       "    }\n",
       "\n",
       "    .dataframe thead th {\n",
       "        text-align: right;\n",
       "    }\n",
       "</style>\n",
       "<table border=\"1\" class=\"dataframe\">\n",
       "  <thead>\n",
       "    <tr style=\"text-align: right;\">\n",
       "      <th></th>\n",
       "      <th>Team_ID</th>\n",
       "      <th>Game_ID</th>\n",
       "      <th>GAME_DATE</th>\n",
       "      <th>MATCHUP</th>\n",
       "      <th>WL</th>\n",
       "      <th>W</th>\n",
       "      <th>L</th>\n",
       "      <th>W_PCT</th>\n",
       "      <th>MIN</th>\n",
       "      <th>FGM</th>\n",
       "      <th>FGA</th>\n",
       "      <th>FG_PCT</th>\n",
       "      <th>FG3M</th>\n",
       "      <th>FG3A</th>\n",
       "      <th>FG3_PCT</th>\n",
       "      <th>FTM</th>\n",
       "      <th>FTA</th>\n",
       "      <th>FT_PCT</th>\n",
       "      <th>OREB</th>\n",
       "      <th>DREB</th>\n",
       "      <th>REB</th>\n",
       "      <th>AST</th>\n",
       "      <th>STL</th>\n",
       "      <th>BLK</th>\n",
       "      <th>TOV</th>\n",
       "      <th>PF</th>\n",
       "      <th>PTS</th>\n",
       "    </tr>\n",
       "  </thead>\n",
       "  <tbody>\n",
       "    <tr>\n",
       "      <th>10</th>\n",
       "      <td>1610612744</td>\n",
       "      <td>0022000378</td>\n",
       "      <td>FEB 09, 2021</td>\n",
       "      <td>GSW @ SAS</td>\n",
       "      <td>W</td>\n",
       "      <td>13</td>\n",
       "      <td>12</td>\n",
       "      <td>0.520</td>\n",
       "      <td>240</td>\n",
       "      <td>42</td>\n",
       "      <td>91</td>\n",
       "      <td>0.462</td>\n",
       "      <td>17</td>\n",
       "      <td>40</td>\n",
       "      <td>0.425</td>\n",
       "      <td>13</td>\n",
       "      <td>19</td>\n",
       "      <td>0.684</td>\n",
       "      <td>10</td>\n",
       "      <td>40</td>\n",
       "      <td>50</td>\n",
       "      <td>26</td>\n",
       "      <td>8</td>\n",
       "      <td>4</td>\n",
       "      <td>10</td>\n",
       "      <td>19</td>\n",
       "      <td>114</td>\n",
       "    </tr>\n",
       "    <tr>\n",
       "      <th>11</th>\n",
       "      <td>1610612744</td>\n",
       "      <td>0022000371</td>\n",
       "      <td>FEB 08, 2021</td>\n",
       "      <td>GSW @ SAS</td>\n",
       "      <td>L</td>\n",
       "      <td>12</td>\n",
       "      <td>12</td>\n",
       "      <td>0.500</td>\n",
       "      <td>240</td>\n",
       "      <td>38</td>\n",
       "      <td>86</td>\n",
       "      <td>0.442</td>\n",
       "      <td>13</td>\n",
       "      <td>37</td>\n",
       "      <td>0.351</td>\n",
       "      <td>11</td>\n",
       "      <td>15</td>\n",
       "      <td>0.733</td>\n",
       "      <td>6</td>\n",
       "      <td>43</td>\n",
       "      <td>49</td>\n",
       "      <td>29</td>\n",
       "      <td>4</td>\n",
       "      <td>6</td>\n",
       "      <td>20</td>\n",
       "      <td>19</td>\n",
       "      <td>100</td>\n",
       "    </tr>\n",
       "    <tr>\n",
       "      <th>21</th>\n",
       "      <td>1610612744</td>\n",
       "      <td>0022000223</td>\n",
       "      <td>JAN 20, 2021</td>\n",
       "      <td>GSW vs. SAS</td>\n",
       "      <td>W</td>\n",
       "      <td>8</td>\n",
       "      <td>6</td>\n",
       "      <td>0.571</td>\n",
       "      <td>240</td>\n",
       "      <td>46</td>\n",
       "      <td>91</td>\n",
       "      <td>0.505</td>\n",
       "      <td>15</td>\n",
       "      <td>38</td>\n",
       "      <td>0.395</td>\n",
       "      <td>14</td>\n",
       "      <td>20</td>\n",
       "      <td>0.700</td>\n",
       "      <td>10</td>\n",
       "      <td>44</td>\n",
       "      <td>54</td>\n",
       "      <td>31</td>\n",
       "      <td>6</td>\n",
       "      <td>2</td>\n",
       "      <td>14</td>\n",
       "      <td>22</td>\n",
       "      <td>121</td>\n",
       "    </tr>\n",
       "  </tbody>\n",
       "</table>\n",
       "</div>"
      ],
      "text/plain": [
       "       Team_ID     Game_ID     GAME_DATE      MATCHUP WL   W   L  W_PCT  MIN  \\\n",
       "10  1610612744  0022000378  FEB 09, 2021    GSW @ SAS  W  13  12  0.520  240   \n",
       "11  1610612744  0022000371  FEB 08, 2021    GSW @ SAS  L  12  12  0.500  240   \n",
       "21  1610612744  0022000223  JAN 20, 2021  GSW vs. SAS  W   8   6  0.571  240   \n",
       "\n",
       "    FGM  FGA  FG_PCT  FG3M  FG3A  FG3_PCT  FTM  FTA  FT_PCT  OREB  DREB  REB  \\\n",
       "10   42   91   0.462    17    40    0.425   13   19   0.684    10    40   50   \n",
       "11   38   86   0.442    13    37    0.351   11   15   0.733     6    43   49   \n",
       "21   46   91   0.505    15    38    0.395   14   20   0.700    10    44   54   \n",
       "\n",
       "    AST  STL  BLK  TOV  PF  PTS  \n",
       "10   26    8    4   10  19  114  \n",
       "11   29    4    6   20  19  100  \n",
       "21   31    6    2   14  22  121  "
      ]
     },
     "execution_count": 15,
     "metadata": {},
     "output_type": "execute_result"
    }
   ],
   "source": [
    "warriors_20_df[warriors_20_df['MATCHUP'].str.contains('SAS')]"
   ]
  },
  {
   "cell_type": "code",
   "execution_count": 16,
   "metadata": {},
   "outputs": [],
   "source": [
    "gamelog_steph = playergamelog.PlayerGameLog(steph_id)"
   ]
  },
  {
   "cell_type": "code",
   "execution_count": 17,
   "metadata": {},
   "outputs": [],
   "source": [
    "gamelog_steph_df = gamelog_steph.get_data_frames()[0]"
   ]
  },
  {
   "cell_type": "code",
   "execution_count": 18,
   "metadata": {},
   "outputs": [
    {
     "data": {
      "text/html": [
       "<div>\n",
       "<style scoped>\n",
       "    .dataframe tbody tr th:only-of-type {\n",
       "        vertical-align: middle;\n",
       "    }\n",
       "\n",
       "    .dataframe tbody tr th {\n",
       "        vertical-align: top;\n",
       "    }\n",
       "\n",
       "    .dataframe thead th {\n",
       "        text-align: right;\n",
       "    }\n",
       "</style>\n",
       "<table border=\"1\" class=\"dataframe\">\n",
       "  <thead>\n",
       "    <tr style=\"text-align: right;\">\n",
       "      <th></th>\n",
       "      <th>SEASON_ID</th>\n",
       "      <th>Player_ID</th>\n",
       "      <th>Game_ID</th>\n",
       "      <th>GAME_DATE</th>\n",
       "      <th>MATCHUP</th>\n",
       "      <th>WL</th>\n",
       "      <th>MIN</th>\n",
       "      <th>FGM</th>\n",
       "      <th>FGA</th>\n",
       "      <th>FG_PCT</th>\n",
       "      <th>FG3M</th>\n",
       "      <th>FG3A</th>\n",
       "      <th>FG3_PCT</th>\n",
       "      <th>FTM</th>\n",
       "      <th>FTA</th>\n",
       "      <th>FT_PCT</th>\n",
       "      <th>OREB</th>\n",
       "      <th>DREB</th>\n",
       "      <th>REB</th>\n",
       "      <th>AST</th>\n",
       "      <th>STL</th>\n",
       "      <th>BLK</th>\n",
       "      <th>TOV</th>\n",
       "      <th>PF</th>\n",
       "      <th>PTS</th>\n",
       "      <th>PLUS_MINUS</th>\n",
       "      <th>VIDEO_AVAILABLE</th>\n",
       "    </tr>\n",
       "  </thead>\n",
       "  <tbody>\n",
       "    <tr>\n",
       "      <th>0</th>\n",
       "      <td>22020</td>\n",
       "      <td>201939</td>\n",
       "      <td>0022000527</td>\n",
       "      <td>FEB 28, 2021</td>\n",
       "      <td>GSW @ LAL</td>\n",
       "      <td>L</td>\n",
       "      <td>26</td>\n",
       "      <td>5</td>\n",
       "      <td>13</td>\n",
       "      <td>0.385</td>\n",
       "      <td>2</td>\n",
       "      <td>7</td>\n",
       "      <td>0.286</td>\n",
       "      <td>4</td>\n",
       "      <td>5</td>\n",
       "      <td>0.8</td>\n",
       "      <td>0</td>\n",
       "      <td>4</td>\n",
       "      <td>4</td>\n",
       "      <td>7</td>\n",
       "      <td>3</td>\n",
       "      <td>0</td>\n",
       "      <td>3</td>\n",
       "      <td>2</td>\n",
       "      <td>16</td>\n",
       "      <td>-24</td>\n",
       "      <td>1</td>\n",
       "    </tr>\n",
       "    <tr>\n",
       "      <th>1</th>\n",
       "      <td>22020</td>\n",
       "      <td>201939</td>\n",
       "      <td>0022000511</td>\n",
       "      <td>FEB 26, 2021</td>\n",
       "      <td>GSW vs. CHA</td>\n",
       "      <td>W</td>\n",
       "      <td>36</td>\n",
       "      <td>8</td>\n",
       "      <td>15</td>\n",
       "      <td>0.533</td>\n",
       "      <td>3</td>\n",
       "      <td>8</td>\n",
       "      <td>0.375</td>\n",
       "      <td>10</td>\n",
       "      <td>10</td>\n",
       "      <td>1.0</td>\n",
       "      <td>0</td>\n",
       "      <td>4</td>\n",
       "      <td>4</td>\n",
       "      <td>9</td>\n",
       "      <td>1</td>\n",
       "      <td>0</td>\n",
       "      <td>4</td>\n",
       "      <td>1</td>\n",
       "      <td>29</td>\n",
       "      <td>23</td>\n",
       "      <td>1</td>\n",
       "    </tr>\n",
       "  </tbody>\n",
       "</table>\n",
       "</div>"
      ],
      "text/plain": [
       "  SEASON_ID  Player_ID     Game_ID     GAME_DATE      MATCHUP WL  MIN  FGM  \\\n",
       "0     22020     201939  0022000527  FEB 28, 2021    GSW @ LAL  L   26    5   \n",
       "1     22020     201939  0022000511  FEB 26, 2021  GSW vs. CHA  W   36    8   \n",
       "\n",
       "   FGA  FG_PCT  FG3M  FG3A  FG3_PCT  FTM  FTA  FT_PCT  OREB  DREB  REB  AST  \\\n",
       "0   13   0.385     2     7    0.286    4    5     0.8     0     4    4    7   \n",
       "1   15   0.533     3     8    0.375   10   10     1.0     0     4    4    9   \n",
       "\n",
       "   STL  BLK  TOV  PF  PTS  PLUS_MINUS  VIDEO_AVAILABLE  \n",
       "0    3    0    3   2   16         -24                1  \n",
       "1    1    0    4   1   29          23                1  "
      ]
     },
     "execution_count": 18,
     "metadata": {},
     "output_type": "execute_result"
    }
   ],
   "source": [
    "gamelog_steph_df.head(2)"
   ]
  },
  {
   "cell_type": "code",
   "execution_count": 19,
   "metadata": {},
   "outputs": [],
   "source": [
    "gamelog_steph_df['PAR'] = gamelog_steph_df['PTS'] + gamelog_steph_df['AST'] + gamelog_steph_df['REB'] "
   ]
  },
  {
   "cell_type": "code",
   "execution_count": 20,
   "metadata": {},
   "outputs": [
    {
     "data": {
      "text/html": [
       "<div>\n",
       "<style scoped>\n",
       "    .dataframe tbody tr th:only-of-type {\n",
       "        vertical-align: middle;\n",
       "    }\n",
       "\n",
       "    .dataframe tbody tr th {\n",
       "        vertical-align: top;\n",
       "    }\n",
       "\n",
       "    .dataframe thead th {\n",
       "        text-align: right;\n",
       "    }\n",
       "</style>\n",
       "<table border=\"1\" class=\"dataframe\">\n",
       "  <thead>\n",
       "    <tr style=\"text-align: right;\">\n",
       "      <th></th>\n",
       "      <th>SEASON_ID</th>\n",
       "      <th>Player_ID</th>\n",
       "      <th>Game_ID</th>\n",
       "      <th>GAME_DATE</th>\n",
       "      <th>MATCHUP</th>\n",
       "      <th>WL</th>\n",
       "      <th>MIN</th>\n",
       "      <th>FGM</th>\n",
       "      <th>FGA</th>\n",
       "      <th>FG_PCT</th>\n",
       "      <th>FG3M</th>\n",
       "      <th>FG3A</th>\n",
       "      <th>FG3_PCT</th>\n",
       "      <th>FTM</th>\n",
       "      <th>FTA</th>\n",
       "      <th>FT_PCT</th>\n",
       "      <th>OREB</th>\n",
       "      <th>DREB</th>\n",
       "      <th>REB</th>\n",
       "      <th>AST</th>\n",
       "      <th>STL</th>\n",
       "      <th>BLK</th>\n",
       "      <th>TOV</th>\n",
       "      <th>PF</th>\n",
       "      <th>PTS</th>\n",
       "      <th>PLUS_MINUS</th>\n",
       "      <th>VIDEO_AVAILABLE</th>\n",
       "      <th>PAR</th>\n",
       "    </tr>\n",
       "  </thead>\n",
       "  <tbody>\n",
       "    <tr>\n",
       "      <th>0</th>\n",
       "      <td>22020</td>\n",
       "      <td>201939</td>\n",
       "      <td>0022000527</td>\n",
       "      <td>FEB 28, 2021</td>\n",
       "      <td>GSW @ LAL</td>\n",
       "      <td>L</td>\n",
       "      <td>26</td>\n",
       "      <td>5</td>\n",
       "      <td>13</td>\n",
       "      <td>0.385</td>\n",
       "      <td>2</td>\n",
       "      <td>7</td>\n",
       "      <td>0.286</td>\n",
       "      <td>4</td>\n",
       "      <td>5</td>\n",
       "      <td>0.8</td>\n",
       "      <td>0</td>\n",
       "      <td>4</td>\n",
       "      <td>4</td>\n",
       "      <td>7</td>\n",
       "      <td>3</td>\n",
       "      <td>0</td>\n",
       "      <td>3</td>\n",
       "      <td>2</td>\n",
       "      <td>16</td>\n",
       "      <td>-24</td>\n",
       "      <td>1</td>\n",
       "      <td>27</td>\n",
       "    </tr>\n",
       "    <tr>\n",
       "      <th>1</th>\n",
       "      <td>22020</td>\n",
       "      <td>201939</td>\n",
       "      <td>0022000511</td>\n",
       "      <td>FEB 26, 2021</td>\n",
       "      <td>GSW vs. CHA</td>\n",
       "      <td>W</td>\n",
       "      <td>36</td>\n",
       "      <td>8</td>\n",
       "      <td>15</td>\n",
       "      <td>0.533</td>\n",
       "      <td>3</td>\n",
       "      <td>8</td>\n",
       "      <td>0.375</td>\n",
       "      <td>10</td>\n",
       "      <td>10</td>\n",
       "      <td>1.0</td>\n",
       "      <td>0</td>\n",
       "      <td>4</td>\n",
       "      <td>4</td>\n",
       "      <td>9</td>\n",
       "      <td>1</td>\n",
       "      <td>0</td>\n",
       "      <td>4</td>\n",
       "      <td>1</td>\n",
       "      <td>29</td>\n",
       "      <td>23</td>\n",
       "      <td>1</td>\n",
       "      <td>42</td>\n",
       "    </tr>\n",
       "  </tbody>\n",
       "</table>\n",
       "</div>"
      ],
      "text/plain": [
       "  SEASON_ID  Player_ID     Game_ID     GAME_DATE      MATCHUP WL  MIN  FGM  \\\n",
       "0     22020     201939  0022000527  FEB 28, 2021    GSW @ LAL  L   26    5   \n",
       "1     22020     201939  0022000511  FEB 26, 2021  GSW vs. CHA  W   36    8   \n",
       "\n",
       "   FGA  FG_PCT  FG3M  FG3A  FG3_PCT  FTM  FTA  FT_PCT  OREB  DREB  REB  AST  \\\n",
       "0   13   0.385     2     7    0.286    4    5     0.8     0     4    4    7   \n",
       "1   15   0.533     3     8    0.375   10   10     1.0     0     4    4    9   \n",
       "\n",
       "   STL  BLK  TOV  PF  PTS  PLUS_MINUS  VIDEO_AVAILABLE  PAR  \n",
       "0    3    0    3   2   16         -24                1   27  \n",
       "1    1    0    4   1   29          23                1   42  "
      ]
     },
     "execution_count": 20,
     "metadata": {},
     "output_type": "execute_result"
    }
   ],
   "source": [
    "gamelog_steph_df.head(2)"
   ]
  },
  {
   "cell_type": "code",
   "execution_count": 21,
   "metadata": {},
   "outputs": [
    {
     "data": {
      "text/plain": [
       "41.294117647058826"
      ]
     },
     "execution_count": 21,
     "metadata": {},
     "output_type": "execute_result"
    }
   ],
   "source": [
    "gamelog_steph_df['PAR'].mean()"
   ]
  },
  {
   "cell_type": "code",
   "execution_count": 22,
   "metadata": {},
   "outputs": [],
   "source": [
    "brogdon = [player for player in player_dict if player['full_name'] == 'Malcolm Brogdon'][0]"
   ]
  },
  {
   "cell_type": "code",
   "execution_count": 23,
   "metadata": {},
   "outputs": [],
   "source": [
    "brogdon_id = brogdon['id']"
   ]
  },
  {
   "cell_type": "code",
   "execution_count": 24,
   "metadata": {},
   "outputs": [],
   "source": [
    "gamelog_brogdon_20 = playergamelog.PlayerGameLog(brogdon_id, '2020')\n",
    "gamelog_brogdon_19 = playergamelog.PlayerGameLog(brogdon_id, '2019')\n",
    "gamelog_brogdon_18 = playergamelog.PlayerGameLog(brogdon_id, '2018')\n",
    "gamelog_brogdon_17 = playergamelog.PlayerGameLog(brogdon_id, '2017')"
   ]
  },
  {
   "cell_type": "code",
   "execution_count": 25,
   "metadata": {},
   "outputs": [],
   "source": [
    "gamelog_brogdon_20_df = gamelog_brogdon_20.get_data_frames()[0]\n",
    "gamelog_brogdon_19_df = gamelog_brogdon_19.get_data_frames()[0]\n",
    "gamelog_brogdon_18_df = gamelog_brogdon_18.get_data_frames()[0]\n",
    "gamelog_brogdon_17_df = gamelog_brogdon_17.get_data_frames()[0]"
   ]
  },
  {
   "cell_type": "code",
   "execution_count": 26,
   "metadata": {
    "scrolled": true
   },
   "outputs": [],
   "source": [
    "brog_17to20_df = pd.concat([gamelog_brogdon_17_df, gamelog_brogdon_18_df, gamelog_brogdon_19_df, gamelog_brogdon_20_df])"
   ]
  },
  {
   "cell_type": "code",
   "execution_count": 27,
   "metadata": {},
   "outputs": [],
   "source": [
    "brog_17to20_df['GAME_DATE'] = pd.to_datetime(brog_17to20_df['GAME_DATE'])"
   ]
  },
  {
   "cell_type": "code",
   "execution_count": 28,
   "metadata": {},
   "outputs": [],
   "source": [
    "brog_17to20_df.sort_values(by='GAME_DATE', ascending=False,inplace=True)"
   ]
  },
  {
   "cell_type": "code",
   "execution_count": 29,
   "metadata": {},
   "outputs": [
    {
     "data": {
      "text/html": [
       "<div>\n",
       "<style scoped>\n",
       "    .dataframe tbody tr th:only-of-type {\n",
       "        vertical-align: middle;\n",
       "    }\n",
       "\n",
       "    .dataframe tbody tr th {\n",
       "        vertical-align: top;\n",
       "    }\n",
       "\n",
       "    .dataframe thead th {\n",
       "        text-align: right;\n",
       "    }\n",
       "</style>\n",
       "<table border=\"1\" class=\"dataframe\">\n",
       "  <thead>\n",
       "    <tr style=\"text-align: right;\">\n",
       "      <th></th>\n",
       "      <th>SEASON_ID</th>\n",
       "      <th>Player_ID</th>\n",
       "      <th>Game_ID</th>\n",
       "      <th>GAME_DATE</th>\n",
       "      <th>MATCHUP</th>\n",
       "      <th>WL</th>\n",
       "      <th>MIN</th>\n",
       "      <th>FGM</th>\n",
       "      <th>FGA</th>\n",
       "      <th>FG_PCT</th>\n",
       "      <th>FG3M</th>\n",
       "      <th>FG3A</th>\n",
       "      <th>FG3_PCT</th>\n",
       "      <th>FTM</th>\n",
       "      <th>FTA</th>\n",
       "      <th>FT_PCT</th>\n",
       "      <th>OREB</th>\n",
       "      <th>DREB</th>\n",
       "      <th>REB</th>\n",
       "      <th>AST</th>\n",
       "      <th>STL</th>\n",
       "      <th>BLK</th>\n",
       "      <th>TOV</th>\n",
       "      <th>PF</th>\n",
       "      <th>PTS</th>\n",
       "      <th>PLUS_MINUS</th>\n",
       "      <th>VIDEO_AVAILABLE</th>\n",
       "    </tr>\n",
       "  </thead>\n",
       "  <tbody>\n",
       "    <tr>\n",
       "      <th>0</th>\n",
       "      <td>22020</td>\n",
       "      <td>1627763</td>\n",
       "      <td>0022000530</td>\n",
       "      <td>2021-03-01</td>\n",
       "      <td>IND @ PHI</td>\n",
       "      <td>L</td>\n",
       "      <td>29</td>\n",
       "      <td>9</td>\n",
       "      <td>17</td>\n",
       "      <td>0.529</td>\n",
       "      <td>0</td>\n",
       "      <td>3</td>\n",
       "      <td>0.000</td>\n",
       "      <td>2</td>\n",
       "      <td>2</td>\n",
       "      <td>1.0</td>\n",
       "      <td>0</td>\n",
       "      <td>4</td>\n",
       "      <td>4</td>\n",
       "      <td>4</td>\n",
       "      <td>0</td>\n",
       "      <td>0</td>\n",
       "      <td>0</td>\n",
       "      <td>2</td>\n",
       "      <td>20</td>\n",
       "      <td>-16</td>\n",
       "      <td>1</td>\n",
       "    </tr>\n",
       "    <tr>\n",
       "      <th>1</th>\n",
       "      <td>22020</td>\n",
       "      <td>1627763</td>\n",
       "      <td>0022000505</td>\n",
       "      <td>2021-02-26</td>\n",
       "      <td>IND @ BOS</td>\n",
       "      <td>L</td>\n",
       "      <td>33</td>\n",
       "      <td>5</td>\n",
       "      <td>17</td>\n",
       "      <td>0.294</td>\n",
       "      <td>2</td>\n",
       "      <td>7</td>\n",
       "      <td>0.286</td>\n",
       "      <td>0</td>\n",
       "      <td>0</td>\n",
       "      <td>0.0</td>\n",
       "      <td>2</td>\n",
       "      <td>4</td>\n",
       "      <td>6</td>\n",
       "      <td>6</td>\n",
       "      <td>0</td>\n",
       "      <td>0</td>\n",
       "      <td>1</td>\n",
       "      <td>4</td>\n",
       "      <td>12</td>\n",
       "      <td>-4</td>\n",
       "      <td>1</td>\n",
       "    </tr>\n",
       "  </tbody>\n",
       "</table>\n",
       "</div>"
      ],
      "text/plain": [
       "  SEASON_ID  Player_ID     Game_ID  GAME_DATE    MATCHUP WL  MIN  FGM  FGA  \\\n",
       "0     22020    1627763  0022000530 2021-03-01  IND @ PHI  L   29    9   17   \n",
       "1     22020    1627763  0022000505 2021-02-26  IND @ BOS  L   33    5   17   \n",
       "\n",
       "   FG_PCT  FG3M  FG3A  FG3_PCT  FTM  FTA  FT_PCT  OREB  DREB  REB  AST  STL  \\\n",
       "0   0.529     0     3    0.000    2    2     1.0     0     4    4    4    0   \n",
       "1   0.294     2     7    0.286    0    0     0.0     2     4    6    6    0   \n",
       "\n",
       "   BLK  TOV  PF  PTS  PLUS_MINUS  VIDEO_AVAILABLE  \n",
       "0    0    0   2   20         -16                1  \n",
       "1    0    1   4   12          -4                1  "
      ]
     },
     "execution_count": 29,
     "metadata": {},
     "output_type": "execute_result"
    }
   ],
   "source": [
    "brog_17to20_df.head(2)"
   ]
  },
  {
   "cell_type": "code",
   "execution_count": 30,
   "metadata": {},
   "outputs": [],
   "source": [
    "brog_17to20_df['PAR'] = brog_17to20_df['PTS'] + brog_17to20_df['AST'] + brog_17to20_df['REB'] "
   ]
  },
  {
   "cell_type": "code",
   "execution_count": 31,
   "metadata": {},
   "outputs": [
    {
     "data": {
      "text/html": [
       "<div>\n",
       "<style scoped>\n",
       "    .dataframe tbody tr th:only-of-type {\n",
       "        vertical-align: middle;\n",
       "    }\n",
       "\n",
       "    .dataframe tbody tr th {\n",
       "        vertical-align: top;\n",
       "    }\n",
       "\n",
       "    .dataframe thead th {\n",
       "        text-align: right;\n",
       "    }\n",
       "</style>\n",
       "<table border=\"1\" class=\"dataframe\">\n",
       "  <thead>\n",
       "    <tr style=\"text-align: right;\">\n",
       "      <th></th>\n",
       "      <th>SEASON_ID</th>\n",
       "      <th>Player_ID</th>\n",
       "      <th>Game_ID</th>\n",
       "      <th>GAME_DATE</th>\n",
       "      <th>MATCHUP</th>\n",
       "      <th>WL</th>\n",
       "      <th>MIN</th>\n",
       "      <th>FGM</th>\n",
       "      <th>FGA</th>\n",
       "      <th>FG_PCT</th>\n",
       "      <th>FG3M</th>\n",
       "      <th>FG3A</th>\n",
       "      <th>FG3_PCT</th>\n",
       "      <th>FTM</th>\n",
       "      <th>FTA</th>\n",
       "      <th>FT_PCT</th>\n",
       "      <th>OREB</th>\n",
       "      <th>DREB</th>\n",
       "      <th>REB</th>\n",
       "      <th>AST</th>\n",
       "      <th>STL</th>\n",
       "      <th>BLK</th>\n",
       "      <th>TOV</th>\n",
       "      <th>PF</th>\n",
       "      <th>PTS</th>\n",
       "      <th>PLUS_MINUS</th>\n",
       "      <th>VIDEO_AVAILABLE</th>\n",
       "      <th>PAR</th>\n",
       "    </tr>\n",
       "  </thead>\n",
       "  <tbody>\n",
       "    <tr>\n",
       "      <th>0</th>\n",
       "      <td>22020</td>\n",
       "      <td>1627763</td>\n",
       "      <td>0022000530</td>\n",
       "      <td>2021-03-01</td>\n",
       "      <td>IND @ PHI</td>\n",
       "      <td>L</td>\n",
       "      <td>29</td>\n",
       "      <td>9</td>\n",
       "      <td>17</td>\n",
       "      <td>0.529</td>\n",
       "      <td>0</td>\n",
       "      <td>3</td>\n",
       "      <td>0.000</td>\n",
       "      <td>2</td>\n",
       "      <td>2</td>\n",
       "      <td>1.0</td>\n",
       "      <td>0</td>\n",
       "      <td>4</td>\n",
       "      <td>4</td>\n",
       "      <td>4</td>\n",
       "      <td>0</td>\n",
       "      <td>0</td>\n",
       "      <td>0</td>\n",
       "      <td>2</td>\n",
       "      <td>20</td>\n",
       "      <td>-16</td>\n",
       "      <td>1</td>\n",
       "      <td>28</td>\n",
       "    </tr>\n",
       "    <tr>\n",
       "      <th>1</th>\n",
       "      <td>22020</td>\n",
       "      <td>1627763</td>\n",
       "      <td>0022000505</td>\n",
       "      <td>2021-02-26</td>\n",
       "      <td>IND @ BOS</td>\n",
       "      <td>L</td>\n",
       "      <td>33</td>\n",
       "      <td>5</td>\n",
       "      <td>17</td>\n",
       "      <td>0.294</td>\n",
       "      <td>2</td>\n",
       "      <td>7</td>\n",
       "      <td>0.286</td>\n",
       "      <td>0</td>\n",
       "      <td>0</td>\n",
       "      <td>0.0</td>\n",
       "      <td>2</td>\n",
       "      <td>4</td>\n",
       "      <td>6</td>\n",
       "      <td>6</td>\n",
       "      <td>0</td>\n",
       "      <td>0</td>\n",
       "      <td>1</td>\n",
       "      <td>4</td>\n",
       "      <td>12</td>\n",
       "      <td>-4</td>\n",
       "      <td>1</td>\n",
       "      <td>24</td>\n",
       "    </tr>\n",
       "  </tbody>\n",
       "</table>\n",
       "</div>"
      ],
      "text/plain": [
       "  SEASON_ID  Player_ID     Game_ID  GAME_DATE    MATCHUP WL  MIN  FGM  FGA  \\\n",
       "0     22020    1627763  0022000530 2021-03-01  IND @ PHI  L   29    9   17   \n",
       "1     22020    1627763  0022000505 2021-02-26  IND @ BOS  L   33    5   17   \n",
       "\n",
       "   FG_PCT  FG3M  FG3A  FG3_PCT  FTM  FTA  FT_PCT  OREB  DREB  REB  AST  STL  \\\n",
       "0   0.529     0     3    0.000    2    2     1.0     0     4    4    4    0   \n",
       "1   0.294     2     7    0.286    0    0     0.0     2     4    6    6    0   \n",
       "\n",
       "   BLK  TOV  PF  PTS  PLUS_MINUS  VIDEO_AVAILABLE  PAR  \n",
       "0    0    0   2   20         -16                1   28  \n",
       "1    0    1   4   12          -4                1   24  "
      ]
     },
     "execution_count": 31,
     "metadata": {},
     "output_type": "execute_result"
    }
   ],
   "source": [
    "brog_17to20_df.head(2)"
   ]
  },
  {
   "cell_type": "code",
   "execution_count": 32,
   "metadata": {},
   "outputs": [],
   "source": [
    "brog_vs_bkn = brog_17to20_df[brog_17to20_df['MATCHUP'].str.contains('BKN')]"
   ]
  },
  {
   "cell_type": "code",
   "execution_count": 33,
   "metadata": {},
   "outputs": [],
   "source": [
    "li_brog_vs_bkn = brog_vs_bkn['Game_ID'].to_list()"
   ]
  },
  {
   "cell_type": "code",
   "execution_count": 36,
   "metadata": {},
   "outputs": [],
   "source": [
    "def oppFinder(row):\n",
    "    return row.split()[-1]"
   ]
  },
  {
   "cell_type": "code",
   "execution_count": 37,
   "metadata": {},
   "outputs": [
    {
     "data": {
      "text/plain": [
       "'UTA'"
      ]
     },
     "execution_count": 37,
     "metadata": {},
     "output_type": "execute_result"
    }
   ],
   "source": [
    "oppFinder('IND vs. UTA')"
   ]
  },
  {
   "cell_type": "code",
   "execution_count": 38,
   "metadata": {},
   "outputs": [],
   "source": [
    "brog_17to20_df['OPPONENT'] = brog_17to20_df['MATCHUP'].apply(oppFinder)"
   ]
  },
  {
   "cell_type": "code",
   "execution_count": 40,
   "metadata": {
    "scrolled": false
   },
   "outputs": [
    {
     "data": {
      "text/html": [
       "<div>\n",
       "<style scoped>\n",
       "    .dataframe tbody tr th:only-of-type {\n",
       "        vertical-align: middle;\n",
       "    }\n",
       "\n",
       "    .dataframe tbody tr th {\n",
       "        vertical-align: top;\n",
       "    }\n",
       "\n",
       "    .dataframe thead th {\n",
       "        text-align: right;\n",
       "    }\n",
       "</style>\n",
       "<table border=\"1\" class=\"dataframe\">\n",
       "  <thead>\n",
       "    <tr style=\"text-align: right;\">\n",
       "      <th></th>\n",
       "      <th>AVG_PLUSMINUS</th>\n",
       "      <th>AVG_REB</th>\n",
       "      <th>AVG_STL</th>\n",
       "      <th>AVG_PTS</th>\n",
       "      <th>AVG_AST</th>\n",
       "      <th>AVG_PAR</th>\n",
       "    </tr>\n",
       "    <tr>\n",
       "      <th>OPPONENT</th>\n",
       "      <th></th>\n",
       "      <th></th>\n",
       "      <th></th>\n",
       "      <th></th>\n",
       "      <th></th>\n",
       "      <th></th>\n",
       "    </tr>\n",
       "  </thead>\n",
       "  <tbody>\n",
       "    <tr>\n",
       "      <th>ATL</th>\n",
       "      <td>5.83</td>\n",
       "      <td>4.67</td>\n",
       "      <td>1.00</td>\n",
       "      <td>17.00</td>\n",
       "      <td>6.17</td>\n",
       "      <td>27.83</td>\n",
       "    </tr>\n",
       "    <tr>\n",
       "      <th>BKN</th>\n",
       "      <td>5.00</td>\n",
       "      <td>6.20</td>\n",
       "      <td>1.20</td>\n",
       "      <td>15.20</td>\n",
       "      <td>5.00</td>\n",
       "      <td>26.40</td>\n",
       "    </tr>\n",
       "    <tr>\n",
       "      <th>BOS</th>\n",
       "      <td>1.00</td>\n",
       "      <td>4.60</td>\n",
       "      <td>0.50</td>\n",
       "      <td>17.00</td>\n",
       "      <td>4.80</td>\n",
       "      <td>26.40</td>\n",
       "    </tr>\n",
       "    <tr>\n",
       "      <th>CHA</th>\n",
       "      <td>2.75</td>\n",
       "      <td>4.08</td>\n",
       "      <td>0.75</td>\n",
       "      <td>17.08</td>\n",
       "      <td>5.42</td>\n",
       "      <td>26.58</td>\n",
       "    </tr>\n",
       "    <tr>\n",
       "      <th>CHI</th>\n",
       "      <td>5.80</td>\n",
       "      <td>5.40</td>\n",
       "      <td>0.60</td>\n",
       "      <td>17.80</td>\n",
       "      <td>4.80</td>\n",
       "      <td>28.00</td>\n",
       "    </tr>\n",
       "    <tr>\n",
       "      <th>CLE</th>\n",
       "      <td>4.50</td>\n",
       "      <td>3.75</td>\n",
       "      <td>1.12</td>\n",
       "      <td>20.75</td>\n",
       "      <td>5.25</td>\n",
       "      <td>29.75</td>\n",
       "    </tr>\n",
       "    <tr>\n",
       "      <th>DAL</th>\n",
       "      <td>-3.33</td>\n",
       "      <td>3.83</td>\n",
       "      <td>1.50</td>\n",
       "      <td>15.83</td>\n",
       "      <td>3.33</td>\n",
       "      <td>23.00</td>\n",
       "    </tr>\n",
       "    <tr>\n",
       "      <th>DEN</th>\n",
       "      <td>5.00</td>\n",
       "      <td>5.67</td>\n",
       "      <td>0.67</td>\n",
       "      <td>18.33</td>\n",
       "      <td>5.33</td>\n",
       "      <td>29.33</td>\n",
       "    </tr>\n",
       "    <tr>\n",
       "      <th>DET</th>\n",
       "      <td>3.60</td>\n",
       "      <td>5.40</td>\n",
       "      <td>0.90</td>\n",
       "      <td>15.70</td>\n",
       "      <td>5.70</td>\n",
       "      <td>26.80</td>\n",
       "    </tr>\n",
       "    <tr>\n",
       "      <th>GSW</th>\n",
       "      <td>-5.60</td>\n",
       "      <td>3.40</td>\n",
       "      <td>1.40</td>\n",
       "      <td>17.80</td>\n",
       "      <td>3.80</td>\n",
       "      <td>25.00</td>\n",
       "    </tr>\n",
       "    <tr>\n",
       "      <th>HOU</th>\n",
       "      <td>7.50</td>\n",
       "      <td>3.00</td>\n",
       "      <td>1.25</td>\n",
       "      <td>20.25</td>\n",
       "      <td>4.00</td>\n",
       "      <td>27.25</td>\n",
       "    </tr>\n",
       "    <tr>\n",
       "      <th>IND</th>\n",
       "      <td>9.33</td>\n",
       "      <td>3.83</td>\n",
       "      <td>0.67</td>\n",
       "      <td>12.83</td>\n",
       "      <td>3.83</td>\n",
       "      <td>20.50</td>\n",
       "    </tr>\n",
       "    <tr>\n",
       "      <th>LAC</th>\n",
       "      <td>-14.00</td>\n",
       "      <td>2.00</td>\n",
       "      <td>1.00</td>\n",
       "      <td>19.67</td>\n",
       "      <td>4.33</td>\n",
       "      <td>26.00</td>\n",
       "    </tr>\n",
       "    <tr>\n",
       "      <th>LAL</th>\n",
       "      <td>4.25</td>\n",
       "      <td>3.75</td>\n",
       "      <td>1.00</td>\n",
       "      <td>18.75</td>\n",
       "      <td>4.75</td>\n",
       "      <td>27.25</td>\n",
       "    </tr>\n",
       "    <tr>\n",
       "      <th>MEM</th>\n",
       "      <td>3.00</td>\n",
       "      <td>4.33</td>\n",
       "      <td>0.33</td>\n",
       "      <td>13.83</td>\n",
       "      <td>4.83</td>\n",
       "      <td>23.00</td>\n",
       "    </tr>\n",
       "    <tr>\n",
       "      <th>MIA</th>\n",
       "      <td>-3.67</td>\n",
       "      <td>4.00</td>\n",
       "      <td>0.50</td>\n",
       "      <td>11.17</td>\n",
       "      <td>2.50</td>\n",
       "      <td>17.67</td>\n",
       "    </tr>\n",
       "    <tr>\n",
       "      <th>MIL</th>\n",
       "      <td>-12.50</td>\n",
       "      <td>3.25</td>\n",
       "      <td>1.00</td>\n",
       "      <td>10.75</td>\n",
       "      <td>7.00</td>\n",
       "      <td>21.00</td>\n",
       "    </tr>\n",
       "    <tr>\n",
       "      <th>MIN</th>\n",
       "      <td>12.00</td>\n",
       "      <td>4.43</td>\n",
       "      <td>0.43</td>\n",
       "      <td>15.86</td>\n",
       "      <td>4.71</td>\n",
       "      <td>25.00</td>\n",
       "    </tr>\n",
       "    <tr>\n",
       "      <th>NOP</th>\n",
       "      <td>-2.17</td>\n",
       "      <td>4.50</td>\n",
       "      <td>1.33</td>\n",
       "      <td>16.00</td>\n",
       "      <td>4.67</td>\n",
       "      <td>25.17</td>\n",
       "    </tr>\n",
       "    <tr>\n",
       "      <th>NYK</th>\n",
       "      <td>-1.25</td>\n",
       "      <td>5.62</td>\n",
       "      <td>1.25</td>\n",
       "      <td>17.25</td>\n",
       "      <td>5.75</td>\n",
       "      <td>28.62</td>\n",
       "    </tr>\n",
       "    <tr>\n",
       "      <th>OKC</th>\n",
       "      <td>4.00</td>\n",
       "      <td>3.80</td>\n",
       "      <td>1.00</td>\n",
       "      <td>12.00</td>\n",
       "      <td>4.40</td>\n",
       "      <td>20.20</td>\n",
       "    </tr>\n",
       "    <tr>\n",
       "      <th>ORL</th>\n",
       "      <td>9.38</td>\n",
       "      <td>4.12</td>\n",
       "      <td>0.25</td>\n",
       "      <td>14.75</td>\n",
       "      <td>4.38</td>\n",
       "      <td>23.25</td>\n",
       "    </tr>\n",
       "    <tr>\n",
       "      <th>PHI</th>\n",
       "      <td>-5.50</td>\n",
       "      <td>3.62</td>\n",
       "      <td>0.38</td>\n",
       "      <td>15.00</td>\n",
       "      <td>4.25</td>\n",
       "      <td>22.88</td>\n",
       "    </tr>\n",
       "    <tr>\n",
       "      <th>PHX</th>\n",
       "      <td>-1.29</td>\n",
       "      <td>4.14</td>\n",
       "      <td>1.00</td>\n",
       "      <td>19.86</td>\n",
       "      <td>3.86</td>\n",
       "      <td>27.86</td>\n",
       "    </tr>\n",
       "    <tr>\n",
       "      <th>POR</th>\n",
       "      <td>6.17</td>\n",
       "      <td>3.17</td>\n",
       "      <td>1.33</td>\n",
       "      <td>14.17</td>\n",
       "      <td>5.17</td>\n",
       "      <td>22.50</td>\n",
       "    </tr>\n",
       "    <tr>\n",
       "      <th>SAC</th>\n",
       "      <td>0.17</td>\n",
       "      <td>4.33</td>\n",
       "      <td>0.33</td>\n",
       "      <td>16.17</td>\n",
       "      <td>5.00</td>\n",
       "      <td>25.50</td>\n",
       "    </tr>\n",
       "    <tr>\n",
       "      <th>SAS</th>\n",
       "      <td>1.75</td>\n",
       "      <td>4.25</td>\n",
       "      <td>0.50</td>\n",
       "      <td>15.75</td>\n",
       "      <td>3.25</td>\n",
       "      <td>23.25</td>\n",
       "    </tr>\n",
       "    <tr>\n",
       "      <th>TOR</th>\n",
       "      <td>2.73</td>\n",
       "      <td>4.82</td>\n",
       "      <td>0.73</td>\n",
       "      <td>17.45</td>\n",
       "      <td>4.55</td>\n",
       "      <td>26.82</td>\n",
       "    </tr>\n",
       "    <tr>\n",
       "      <th>UTA</th>\n",
       "      <td>-4.67</td>\n",
       "      <td>3.83</td>\n",
       "      <td>0.50</td>\n",
       "      <td>16.33</td>\n",
       "      <td>4.83</td>\n",
       "      <td>25.00</td>\n",
       "    </tr>\n",
       "    <tr>\n",
       "      <th>WAS</th>\n",
       "      <td>10.62</td>\n",
       "      <td>5.00</td>\n",
       "      <td>0.75</td>\n",
       "      <td>13.25</td>\n",
       "      <td>5.38</td>\n",
       "      <td>23.62</td>\n",
       "    </tr>\n",
       "  </tbody>\n",
       "</table>\n",
       "</div>"
      ],
      "text/plain": [
       "          AVG_PLUSMINUS  AVG_REB  AVG_STL  AVG_PTS  AVG_AST  AVG_PAR\n",
       "OPPONENT                                                            \n",
       "ATL                5.83     4.67     1.00    17.00     6.17    27.83\n",
       "BKN                5.00     6.20     1.20    15.20     5.00    26.40\n",
       "BOS                1.00     4.60     0.50    17.00     4.80    26.40\n",
       "CHA                2.75     4.08     0.75    17.08     5.42    26.58\n",
       "CHI                5.80     5.40     0.60    17.80     4.80    28.00\n",
       "CLE                4.50     3.75     1.12    20.75     5.25    29.75\n",
       "DAL               -3.33     3.83     1.50    15.83     3.33    23.00\n",
       "DEN                5.00     5.67     0.67    18.33     5.33    29.33\n",
       "DET                3.60     5.40     0.90    15.70     5.70    26.80\n",
       "GSW               -5.60     3.40     1.40    17.80     3.80    25.00\n",
       "HOU                7.50     3.00     1.25    20.25     4.00    27.25\n",
       "IND                9.33     3.83     0.67    12.83     3.83    20.50\n",
       "LAC              -14.00     2.00     1.00    19.67     4.33    26.00\n",
       "LAL                4.25     3.75     1.00    18.75     4.75    27.25\n",
       "MEM                3.00     4.33     0.33    13.83     4.83    23.00\n",
       "MIA               -3.67     4.00     0.50    11.17     2.50    17.67\n",
       "MIL              -12.50     3.25     1.00    10.75     7.00    21.00\n",
       "MIN               12.00     4.43     0.43    15.86     4.71    25.00\n",
       "NOP               -2.17     4.50     1.33    16.00     4.67    25.17\n",
       "NYK               -1.25     5.62     1.25    17.25     5.75    28.62\n",
       "OKC                4.00     3.80     1.00    12.00     4.40    20.20\n",
       "ORL                9.38     4.12     0.25    14.75     4.38    23.25\n",
       "PHI               -5.50     3.62     0.38    15.00     4.25    22.88\n",
       "PHX               -1.29     4.14     1.00    19.86     3.86    27.86\n",
       "POR                6.17     3.17     1.33    14.17     5.17    22.50\n",
       "SAC                0.17     4.33     0.33    16.17     5.00    25.50\n",
       "SAS                1.75     4.25     0.50    15.75     3.25    23.25\n",
       "TOR                2.73     4.82     0.73    17.45     4.55    26.82\n",
       "UTA               -4.67     3.83     0.50    16.33     4.83    25.00\n",
       "WAS               10.62     5.00     0.75    13.25     5.38    23.62"
      ]
     },
     "execution_count": 40,
     "metadata": {},
     "output_type": "execute_result"
    }
   ],
   "source": [
    "brog_17to20_df.groupby('OPPONENT').agg(\n",
    "    AVG_PLUSMINUS = ('PLUS_MINUS', 'mean'),\n",
    "    AVG_REB = ('REB', 'mean'),\n",
    "    AVG_STL = ('STL', 'mean'),\n",
    "    AVG_PTS = ('PTS', 'mean'),\n",
    "    AVG_AST = ('AST', 'mean'),\n",
    "    AVG_PAR = ('PAR', 'mean')\n",
    " ).round(2)"
   ]
  },
  {
   "cell_type": "markdown",
   "metadata": {},
   "source": [
    "---"
   ]
  },
  {
   "cell_type": "code",
   "execution_count": 43,
   "metadata": {},
   "outputs": [],
   "source": [
    "with open('json_nba.json') as f:\n",
    "    data = json.load(f)"
   ]
  },
  {
   "cell_type": "code",
   "execution_count": 44,
   "metadata": {},
   "outputs": [],
   "source": [
    "json_data = ast.literal_eval(data)"
   ]
  },
  {
   "cell_type": "code",
   "execution_count": 45,
   "metadata": {},
   "outputs": [],
   "source": [
    "json = json_data[0]"
   ]
  },
  {
   "cell_type": "code",
   "execution_count": 48,
   "metadata": {},
   "outputs": [],
   "source": [
    "events = json['events'][0]"
   ]
  },
  {
   "cell_type": "code",
   "execution_count": 50,
   "metadata": {},
   "outputs": [],
   "source": [
    "df = pd.json_normalize(events, sep='_')"
   ]
  },
  {
   "cell_type": "code",
   "execution_count": 51,
   "metadata": {
    "scrolled": true
   },
   "outputs": [
    {
     "data": {
      "text/html": [
       "<div>\n",
       "<style scoped>\n",
       "    .dataframe tbody tr th:only-of-type {\n",
       "        vertical-align: middle;\n",
       "    }\n",
       "\n",
       "    .dataframe tbody tr th {\n",
       "        vertical-align: top;\n",
       "    }\n",
       "\n",
       "    .dataframe thead th {\n",
       "        text-align: right;\n",
       "    }\n",
       "</style>\n",
       "<table border=\"1\" class=\"dataframe\">\n",
       "  <thead>\n",
       "    <tr style=\"text-align: right;\">\n",
       "      <th></th>\n",
       "      <th>id</th>\n",
       "      <th>description</th>\n",
       "      <th>type</th>\n",
       "      <th>link</th>\n",
       "      <th>status</th>\n",
       "      <th>sport</th>\n",
       "      <th>startTime</th>\n",
       "      <th>live</th>\n",
       "      <th>awayTeamFirst</th>\n",
       "      <th>denySameGame</th>\n",
       "      <th>teaserAllowed</th>\n",
       "      <th>competitionId</th>\n",
       "      <th>notes</th>\n",
       "      <th>numMarkets</th>\n",
       "      <th>lastModified</th>\n",
       "      <th>competitors</th>\n",
       "      <th>displayGroups</th>\n",
       "    </tr>\n",
       "  </thead>\n",
       "  <tbody>\n",
       "    <tr>\n",
       "      <th>0</th>\n",
       "      <td>8301268</td>\n",
       "      <td>Golden State Warriors @ San Antonio Spurs</td>\n",
       "      <td>GAMEEVENT</td>\n",
       "      <td>/basketball/nba/golden-state-warriors-san-anto...</td>\n",
       "      <td>U</td>\n",
       "      <td>BASK</td>\n",
       "      <td>1612920900000</td>\n",
       "      <td>False</td>\n",
       "      <td>True</td>\n",
       "      <td>NO</td>\n",
       "      <td>True</td>\n",
       "      <td>2958468</td>\n",
       "      <td></td>\n",
       "      <td>149</td>\n",
       "      <td>1612912812375</td>\n",
       "      <td>[{'id': '8301268-204', 'name': 'San Antonio Sp...</td>\n",
       "      <td>[{'id': '100-97', 'description': 'Game Lines',...</td>\n",
       "    </tr>\n",
       "  </tbody>\n",
       "</table>\n",
       "</div>"
      ],
      "text/plain": [
       "        id                                description       type  \\\n",
       "0  8301268  Golden State Warriors @ San Antonio Spurs  GAMEEVENT   \n",
       "\n",
       "                                                link status sport  \\\n",
       "0  /basketball/nba/golden-state-warriors-san-anto...      U  BASK   \n",
       "\n",
       "       startTime   live  awayTeamFirst denySameGame  teaserAllowed  \\\n",
       "0  1612920900000  False           True           NO           True   \n",
       "\n",
       "  competitionId notes  numMarkets   lastModified  \\\n",
       "0       2958468               149  1612912812375   \n",
       "\n",
       "                                         competitors  \\\n",
       "0  [{'id': '8301268-204', 'name': 'San Antonio Sp...   \n",
       "\n",
       "                                       displayGroups  \n",
       "0  [{'id': '100-97', 'description': 'Game Lines',...  "
      ]
     },
     "execution_count": 51,
     "metadata": {},
     "output_type": "execute_result"
    }
   ],
   "source": [
    "df"
   ]
  },
  {
   "cell_type": "code",
   "execution_count": 53,
   "metadata": {},
   "outputs": [],
   "source": [
    "competitors = pd.json_normalize(df['competitors'][0])\n",
    "#competitors of the current game matchup"
   ]
  },
  {
   "cell_type": "code",
   "execution_count": 54,
   "metadata": {},
   "outputs": [
    {
     "data": {
      "text/html": [
       "<div>\n",
       "<style scoped>\n",
       "    .dataframe tbody tr th:only-of-type {\n",
       "        vertical-align: middle;\n",
       "    }\n",
       "\n",
       "    .dataframe tbody tr th {\n",
       "        vertical-align: top;\n",
       "    }\n",
       "\n",
       "    .dataframe thead th {\n",
       "        text-align: right;\n",
       "    }\n",
       "</style>\n",
       "<table border=\"1\" class=\"dataframe\">\n",
       "  <thead>\n",
       "    <tr style=\"text-align: right;\">\n",
       "      <th></th>\n",
       "      <th>id</th>\n",
       "      <th>name</th>\n",
       "      <th>home</th>\n",
       "    </tr>\n",
       "  </thead>\n",
       "  <tbody>\n",
       "    <tr>\n",
       "      <th>0</th>\n",
       "      <td>8301268-204</td>\n",
       "      <td>San Antonio Spurs</td>\n",
       "      <td>True</td>\n",
       "    </tr>\n",
       "    <tr>\n",
       "      <th>1</th>\n",
       "      <td>8301268-11757531</td>\n",
       "      <td>Golden State Warriors</td>\n",
       "      <td>False</td>\n",
       "    </tr>\n",
       "  </tbody>\n",
       "</table>\n",
       "</div>"
      ],
      "text/plain": [
       "                 id                   name   home\n",
       "0       8301268-204      San Antonio Spurs   True\n",
       "1  8301268-11757531  Golden State Warriors  False"
      ]
     },
     "execution_count": 54,
     "metadata": {},
     "output_type": "execute_result"
    }
   ],
   "source": [
    "competitors"
   ]
  },
  {
   "cell_type": "code",
   "execution_count": 55,
   "metadata": {},
   "outputs": [],
   "source": [
    "displayGroups = pd.json_normalize(df['displayGroups'][0])\n",
    "#types of betting (lines, game&player props, periods)"
   ]
  },
  {
   "cell_type": "code",
   "execution_count": 56,
   "metadata": {
    "scrolled": false
   },
   "outputs": [
    {
     "data": {
      "text/html": [
       "<div>\n",
       "<style scoped>\n",
       "    .dataframe tbody tr th:only-of-type {\n",
       "        vertical-align: middle;\n",
       "    }\n",
       "\n",
       "    .dataframe tbody tr th {\n",
       "        vertical-align: top;\n",
       "    }\n",
       "\n",
       "    .dataframe thead th {\n",
       "        text-align: right;\n",
       "    }\n",
       "</style>\n",
       "<table border=\"1\" class=\"dataframe\">\n",
       "  <thead>\n",
       "    <tr style=\"text-align: right;\">\n",
       "      <th></th>\n",
       "      <th>id</th>\n",
       "      <th>description</th>\n",
       "      <th>defaultType</th>\n",
       "      <th>alternateType</th>\n",
       "      <th>markets</th>\n",
       "      <th>order</th>\n",
       "    </tr>\n",
       "  </thead>\n",
       "  <tbody>\n",
       "    <tr>\n",
       "      <th>0</th>\n",
       "      <td>100-97</td>\n",
       "      <td>Game Lines</td>\n",
       "      <td>True</td>\n",
       "      <td>False</td>\n",
       "      <td>[{'id': '144048853', 'descriptionKey': 'Head T...</td>\n",
       "      <td>1</td>\n",
       "    </tr>\n",
       "    <tr>\n",
       "      <th>1</th>\n",
       "      <td>100-101</td>\n",
       "      <td>Period/Alternate Lines</td>\n",
       "      <td>False</td>\n",
       "      <td>False</td>\n",
       "      <td>[{'id': 'G-2W-HCAP.Handicap - Asian.209', 'des...</td>\n",
       "      <td>4</td>\n",
       "    </tr>\n",
       "    <tr>\n",
       "      <th>2</th>\n",
       "      <td>100-104</td>\n",
       "      <td>Game Props</td>\n",
       "      <td>False</td>\n",
       "      <td>False</td>\n",
       "      <td>[{'id': '144048848', 'descriptionKey': 'First ...</td>\n",
       "      <td>6</td>\n",
       "    </tr>\n",
       "    <tr>\n",
       "      <th>3</th>\n",
       "      <td>100-105</td>\n",
       "      <td>Player Props</td>\n",
       "      <td>False</td>\n",
       "      <td>False</td>\n",
       "      <td>[{'id': '144144463', 'descriptionKey': 'Will {...</td>\n",
       "      <td>7</td>\n",
       "    </tr>\n",
       "  </tbody>\n",
       "</table>\n",
       "</div>"
      ],
      "text/plain": [
       "        id             description  defaultType  alternateType  \\\n",
       "0   100-97              Game Lines         True          False   \n",
       "1  100-101  Period/Alternate Lines        False          False   \n",
       "2  100-104              Game Props        False          False   \n",
       "3  100-105            Player Props        False          False   \n",
       "\n",
       "                                             markets  order  \n",
       "0  [{'id': '144048853', 'descriptionKey': 'Head T...      1  \n",
       "1  [{'id': 'G-2W-HCAP.Handicap - Asian.209', 'des...      4  \n",
       "2  [{'id': '144048848', 'descriptionKey': 'First ...      6  \n",
       "3  [{'id': '144144463', 'descriptionKey': 'Will {...      7  "
      ]
     },
     "execution_count": 56,
     "metadata": {},
     "output_type": "execute_result"
    }
   ],
   "source": [
    "displayGroups"
   ]
  },
  {
   "cell_type": "code",
   "execution_count": 58,
   "metadata": {},
   "outputs": [],
   "source": [
    "player_props = pd.json_normalize(displayGroups[displayGroups['description'] == 'Player Props']['markets'][3])"
   ]
  },
  {
   "cell_type": "code",
   "execution_count": 60,
   "metadata": {},
   "outputs": [],
   "source": [
    "player_props.drop(['status','singleOnly','notes', 'period.abbreviation','period.live'],inplace=True,axis=1)"
   ]
  },
  {
   "cell_type": "code",
   "execution_count": 61,
   "metadata": {
    "scrolled": false
   },
   "outputs": [
    {
     "data": {
      "text/html": [
       "<div>\n",
       "<style scoped>\n",
       "    .dataframe tbody tr th:only-of-type {\n",
       "        vertical-align: middle;\n",
       "    }\n",
       "\n",
       "    .dataframe tbody tr th {\n",
       "        vertical-align: top;\n",
       "    }\n",
       "\n",
       "    .dataframe thead th {\n",
       "        text-align: right;\n",
       "    }\n",
       "</style>\n",
       "<table border=\"1\" class=\"dataframe\">\n",
       "  <thead>\n",
       "    <tr style=\"text-align: right;\">\n",
       "      <th></th>\n",
       "      <th>id</th>\n",
       "      <th>descriptionKey</th>\n",
       "      <th>description</th>\n",
       "      <th>key</th>\n",
       "      <th>marketTypeId</th>\n",
       "      <th>outcomes</th>\n",
       "      <th>period.id</th>\n",
       "      <th>period.description</th>\n",
       "      <th>period.main</th>\n",
       "    </tr>\n",
       "  </thead>\n",
       "  <tbody>\n",
       "    <tr>\n",
       "      <th>0</th>\n",
       "      <td>144144463</td>\n",
       "      <td>Will {Dejounte Murray (SAS)} record a Double-D...</td>\n",
       "      <td>Will Dejounte Murray (SAS) record a Double-Dou...</td>\n",
       "      <td>GAME-PROP-12</td>\n",
       "      <td>-1093</td>\n",
       "      <td>[{'id': '773861571', 'description': 'Yes', 'st...</td>\n",
       "      <td>209</td>\n",
       "      <td>Game</td>\n",
       "      <td>True</td>\n",
       "    </tr>\n",
       "    <tr>\n",
       "      <th>1</th>\n",
       "      <td>144144458</td>\n",
       "      <td>Will {DeMar DeRozan (SAS)} record a Double-Dou...</td>\n",
       "      <td>Will DeMar DeRozan (SAS) record a Double-Double?</td>\n",
       "      <td>GAME-PROP-12</td>\n",
       "      <td>-1093</td>\n",
       "      <td>[{'id': '773861561', 'description': 'Yes', 'st...</td>\n",
       "      <td>209</td>\n",
       "      <td>Game</td>\n",
       "      <td>True</td>\n",
       "    </tr>\n",
       "  </tbody>\n",
       "</table>\n",
       "</div>"
      ],
      "text/plain": [
       "          id                                     descriptionKey  \\\n",
       "0  144144463  Will {Dejounte Murray (SAS)} record a Double-D...   \n",
       "1  144144458  Will {DeMar DeRozan (SAS)} record a Double-Dou...   \n",
       "\n",
       "                                         description           key  \\\n",
       "0  Will Dejounte Murray (SAS) record a Double-Dou...  GAME-PROP-12   \n",
       "1   Will DeMar DeRozan (SAS) record a Double-Double?  GAME-PROP-12   \n",
       "\n",
       "  marketTypeId                                           outcomes period.id  \\\n",
       "0        -1093  [{'id': '773861571', 'description': 'Yes', 'st...       209   \n",
       "1        -1093  [{'id': '773861561', 'description': 'Yes', 'st...       209   \n",
       "\n",
       "  period.description  period.main  \n",
       "0               Game         True  \n",
       "1               Game         True  "
      ]
     },
     "execution_count": 61,
     "metadata": {},
     "output_type": "execute_result"
    }
   ],
   "source": [
    "player_props.head(2)"
   ]
  },
  {
   "cell_type": "code",
   "execution_count": 64,
   "metadata": {
    "scrolled": true
   },
   "outputs": [
    {
     "data": {
      "text/html": [
       "<div>\n",
       "<style scoped>\n",
       "    .dataframe tbody tr th:only-of-type {\n",
       "        vertical-align: middle;\n",
       "    }\n",
       "\n",
       "    .dataframe tbody tr th {\n",
       "        vertical-align: top;\n",
       "    }\n",
       "\n",
       "    .dataframe thead th {\n",
       "        text-align: right;\n",
       "    }\n",
       "</style>\n",
       "<table border=\"1\" class=\"dataframe\">\n",
       "  <thead>\n",
       "    <tr style=\"text-align: right;\">\n",
       "      <th></th>\n",
       "      <th>id</th>\n",
       "      <th>description</th>\n",
       "      <th>status</th>\n",
       "      <th>type</th>\n",
       "      <th>price.id</th>\n",
       "      <th>price.american</th>\n",
       "      <th>price.decimal</th>\n",
       "      <th>price.fractional</th>\n",
       "      <th>price.malay</th>\n",
       "      <th>price.indonesian</th>\n",
       "      <th>price.hongkong</th>\n",
       "    </tr>\n",
       "  </thead>\n",
       "  <tbody>\n",
       "    <tr>\n",
       "      <th>0</th>\n",
       "      <td>773861571</td>\n",
       "      <td>Yes</td>\n",
       "      <td>O</td>\n",
       "      <td>X</td>\n",
       "      <td>7077383005</td>\n",
       "      <td>+235</td>\n",
       "      <td>3.350</td>\n",
       "      <td>47/20</td>\n",
       "      <td>-0.43</td>\n",
       "      <td>2.35</td>\n",
       "      <td>2.35</td>\n",
       "    </tr>\n",
       "    <tr>\n",
       "      <th>1</th>\n",
       "      <td>773861572</td>\n",
       "      <td>No</td>\n",
       "      <td>O</td>\n",
       "      <td>X</td>\n",
       "      <td>7077383006</td>\n",
       "      <td>-330</td>\n",
       "      <td>1.30303</td>\n",
       "      <td>10/33</td>\n",
       "      <td>0.30</td>\n",
       "      <td>-3.30</td>\n",
       "      <td>0.30</td>\n",
       "    </tr>\n",
       "  </tbody>\n",
       "</table>\n",
       "</div>"
      ],
      "text/plain": [
       "          id description status type    price.id price.american price.decimal  \\\n",
       "0  773861571         Yes      O    X  7077383005           +235         3.350   \n",
       "1  773861572          No      O    X  7077383006           -330       1.30303   \n",
       "\n",
       "  price.fractional price.malay price.indonesian price.hongkong  \n",
       "0            47/20       -0.43             2.35           2.35  \n",
       "1            10/33        0.30            -3.30           0.30  "
      ]
     },
     "execution_count": 64,
     "metadata": {},
     "output_type": "execute_result"
    }
   ],
   "source": [
    "pd.json_normalize(player_props['outcomes'][0])"
   ]
  },
  {
   "cell_type": "code",
   "execution_count": 65,
   "metadata": {
    "scrolled": true
   },
   "outputs": [
    {
     "data": {
      "text/html": [
       "<div>\n",
       "<style scoped>\n",
       "    .dataframe tbody tr th:only-of-type {\n",
       "        vertical-align: middle;\n",
       "    }\n",
       "\n",
       "    .dataframe tbody tr th {\n",
       "        vertical-align: top;\n",
       "    }\n",
       "\n",
       "    .dataframe thead th {\n",
       "        text-align: right;\n",
       "    }\n",
       "</style>\n",
       "<table border=\"1\" class=\"dataframe\">\n",
       "  <thead>\n",
       "    <tr style=\"text-align: right;\">\n",
       "      <th></th>\n",
       "      <th>id</th>\n",
       "      <th>descriptionKey</th>\n",
       "      <th>description</th>\n",
       "      <th>key</th>\n",
       "      <th>marketTypeId</th>\n",
       "      <th>outcomes</th>\n",
       "      <th>period.id</th>\n",
       "      <th>period.description</th>\n",
       "      <th>period.main</th>\n",
       "    </tr>\n",
       "  </thead>\n",
       "  <tbody>\n",
       "    <tr>\n",
       "      <th>0</th>\n",
       "      <td>144144463</td>\n",
       "      <td>Will {Dejounte Murray (SAS)} record a Double-D...</td>\n",
       "      <td>Will Dejounte Murray (SAS) record a Double-Dou...</td>\n",
       "      <td>GAME-PROP-12</td>\n",
       "      <td>-1093</td>\n",
       "      <td>[{'id': '773861571', 'description': 'Yes', 'st...</td>\n",
       "      <td>209</td>\n",
       "      <td>Game</td>\n",
       "      <td>True</td>\n",
       "    </tr>\n",
       "  </tbody>\n",
       "</table>\n",
       "</div>"
      ],
      "text/plain": [
       "          id                                     descriptionKey  \\\n",
       "0  144144463  Will {Dejounte Murray (SAS)} record a Double-D...   \n",
       "\n",
       "                                         description           key  \\\n",
       "0  Will Dejounte Murray (SAS) record a Double-Dou...  GAME-PROP-12   \n",
       "\n",
       "  marketTypeId                                           outcomes period.id  \\\n",
       "0        -1093  [{'id': '773861571', 'description': 'Yes', 'st...       209   \n",
       "\n",
       "  period.description  period.main  \n",
       "0               Game         True  "
      ]
     },
     "execution_count": 65,
     "metadata": {},
     "output_type": "execute_result"
    }
   ],
   "source": [
    "player_props.head(1)"
   ]
  },
  {
   "cell_type": "code",
   "execution_count": 67,
   "metadata": {},
   "outputs": [],
   "source": [
    "player_props['outcome_ids'] = player_props['outcomes'].apply(lambda x: \"|\".join(i['id'] for i in x))"
   ]
  },
  {
   "cell_type": "code",
   "execution_count": 68,
   "metadata": {},
   "outputs": [],
   "source": [
    "player_props['player_prop_odds'] = player_props['outcomes'].apply(lambda x: \"|\".join(i['price']['american'] for i in x))"
   ]
  },
  {
   "cell_type": "code",
   "execution_count": 70,
   "metadata": {},
   "outputs": [],
   "source": [
    "player_props['yes'] = player_props['player_prop_odds'].apply(lambda x: x.split('|')[0])\n",
    "player_props['no'] = player_props['player_prop_odds'].apply(lambda x: x.split('|')[1])"
   ]
  },
  {
   "cell_type": "code",
   "execution_count": 72,
   "metadata": {},
   "outputs": [],
   "source": [
    "player_props['outcome_yes_id'] = player_props['outcome_ids'].apply(lambda x: x.split('|')[0])\n",
    "player_props['outcome_no_id'] = player_props['outcome_ids'].apply(lambda x: x.split('|')[1])"
   ]
  },
  {
   "cell_type": "code",
   "execution_count": 74,
   "metadata": {},
   "outputs": [],
   "source": [
    "player_props.drop(['outcome_ids', 'player_prop_odds'],axis=1,inplace=True)"
   ]
  },
  {
   "cell_type": "code",
   "execution_count": 77,
   "metadata": {},
   "outputs": [],
   "source": [
    "dejounte = [player for player in player_dict if player['full_name'] == 'Dejounte Murray'][0]\n",
    "demar = [player for player in player_dict if player['full_name'] == 'DeMar DeRozan'][0]"
   ]
  },
  {
   "cell_type": "code",
   "execution_count": 78,
   "metadata": {
    "scrolled": true
   },
   "outputs": [
    {
     "data": {
      "text/plain": [
       "{'id': '773861620',\n",
       " 'description': 'Under',\n",
       " 'status': 'O',\n",
       " 'type': 'U',\n",
       " 'competitorId': '8301268-11766057',\n",
       " 'price': {'id': '7077806507',\n",
       "  'handicap': '42.5',\n",
       "  'american': '-110',\n",
       "  'decimal': '1.909091',\n",
       "  'fractional': '10/11',\n",
       "  'malay': '0.91',\n",
       "  'indonesian': '-1.10',\n",
       "  'hongkong': '0.91'}}"
      ]
     },
     "execution_count": 78,
     "metadata": {},
     "output_type": "execute_result"
    }
   ],
   "source": [
    "player_props.iloc[25]['outcomes'][1]"
   ]
  },
  {
   "cell_type": "code",
   "execution_count": 82,
   "metadata": {},
   "outputs": [],
   "source": [
    "def isHandicap(row):\n",
    "    for i in row:\n",
    "        try:\n",
    "            return i['price']['handicap']\n",
    "        except (KeyError):\n",
    "            return np.nan"
   ]
  },
  {
   "cell_type": "code",
   "execution_count": 83,
   "metadata": {},
   "outputs": [],
   "source": [
    "player_props['handicap'] = player_props['outcomes'].apply(isHandicap)"
   ]
  },
  {
   "cell_type": "code",
   "execution_count": 84,
   "metadata": {},
   "outputs": [],
   "source": [
    "player_props['player_prop_odds'] = player_props['outcomes'].apply(lambda x: \"|\".join(i['price']['american'] for i in x))"
   ]
  },
  {
   "cell_type": "code",
   "execution_count": 86,
   "metadata": {
    "scrolled": false
   },
   "outputs": [
    {
     "data": {
      "text/html": [
       "<div>\n",
       "<style scoped>\n",
       "    .dataframe tbody tr th:only-of-type {\n",
       "        vertical-align: middle;\n",
       "    }\n",
       "\n",
       "    .dataframe tbody tr th {\n",
       "        vertical-align: top;\n",
       "    }\n",
       "\n",
       "    .dataframe thead th {\n",
       "        text-align: right;\n",
       "    }\n",
       "</style>\n",
       "<table border=\"1\" class=\"dataframe\">\n",
       "  <thead>\n",
       "    <tr style=\"text-align: right;\">\n",
       "      <th></th>\n",
       "      <th>id</th>\n",
       "      <th>descriptionKey</th>\n",
       "      <th>description</th>\n",
       "      <th>key</th>\n",
       "      <th>marketTypeId</th>\n",
       "      <th>outcomes</th>\n",
       "      <th>period.id</th>\n",
       "      <th>period.description</th>\n",
       "      <th>period.main</th>\n",
       "      <th>yes</th>\n",
       "      <th>no</th>\n",
       "      <th>outcome_yes_id</th>\n",
       "      <th>outcome_no_id</th>\n",
       "      <th>handicap</th>\n",
       "      <th>player_prop_odds</th>\n",
       "    </tr>\n",
       "  </thead>\n",
       "  <tbody>\n",
       "    <tr>\n",
       "      <th>0</th>\n",
       "      <td>144144463</td>\n",
       "      <td>Will {Dejounte Murray (SAS)} record a Double-D...</td>\n",
       "      <td>Will Dejounte Murray (SAS) record a Double-Dou...</td>\n",
       "      <td>GAME-PROP-12</td>\n",
       "      <td>-1093</td>\n",
       "      <td>[{'id': '773861571', 'description': 'Yes', 'st...</td>\n",
       "      <td>209</td>\n",
       "      <td>Game</td>\n",
       "      <td>True</td>\n",
       "      <td>+235</td>\n",
       "      <td>-330</td>\n",
       "      <td>773861571</td>\n",
       "      <td>773861572</td>\n",
       "      <td>NaN</td>\n",
       "      <td>+235|-330</td>\n",
       "    </tr>\n",
       "  </tbody>\n",
       "</table>\n",
       "</div>"
      ],
      "text/plain": [
       "          id                                     descriptionKey  \\\n",
       "0  144144463  Will {Dejounte Murray (SAS)} record a Double-D...   \n",
       "\n",
       "                                         description           key  \\\n",
       "0  Will Dejounte Murray (SAS) record a Double-Dou...  GAME-PROP-12   \n",
       "\n",
       "  marketTypeId                                           outcomes period.id  \\\n",
       "0        -1093  [{'id': '773861571', 'description': 'Yes', 'st...       209   \n",
       "\n",
       "  period.description  period.main   yes    no outcome_yes_id outcome_no_id  \\\n",
       "0               Game         True  +235  -330      773861571     773861572   \n",
       "\n",
       "  handicap player_prop_odds  \n",
       "0      NaN        +235|-330  "
      ]
     },
     "execution_count": 86,
     "metadata": {},
     "output_type": "execute_result"
    }
   ],
   "source": [
    "player_props.head(1)"
   ]
  },
  {
   "cell_type": "code",
   "execution_count": 87,
   "metadata": {},
   "outputs": [],
   "source": [
    "player_props['player_name'] = player_props['descriptionKey'].apply(lambda s: s.split('{',1)[1].split('}')[0]).apply(lambda s: s.split('(')[0])"
   ]
  },
  {
   "cell_type": "code",
   "execution_count": 88,
   "metadata": {},
   "outputs": [],
   "source": [
    "player_props['player_team'] = player_props['descriptionKey'].apply(lambda s: s.split('{',1)[1].split('}')[0]).apply(\n",
    "lambda s: s.split('(',1)[1].split(')')[0])"
   ]
  },
  {
   "cell_type": "code",
   "execution_count": 90,
   "metadata": {},
   "outputs": [],
   "source": [
    "unique_team_names = list(player_props['player_team'].unique())"
   ]
  },
  {
   "cell_type": "code",
   "execution_count": 91,
   "metadata": {},
   "outputs": [
    {
     "data": {
      "text/plain": [
       "['SAS', 'GSW']"
      ]
     },
     "execution_count": 91,
     "metadata": {},
     "output_type": "execute_result"
    }
   ],
   "source": [
    "unique_team_names"
   ]
  },
  {
   "cell_type": "code",
   "execution_count": 92,
   "metadata": {},
   "outputs": [],
   "source": [
    "def getOpponent(row):\n",
    "    for i in unique_team_names:\n",
    "        if i == row:\n",
    "            return unique_team_names[-1]\n",
    "        else:\n",
    "            return unique_team_names[0]"
   ]
  },
  {
   "cell_type": "code",
   "execution_count": 93,
   "metadata": {},
   "outputs": [],
   "source": [
    "player_props['opp_team'] = player_props['player_team'].apply(getOpponent)"
   ]
  },
  {
   "cell_type": "code",
   "execution_count": 94,
   "metadata": {},
   "outputs": [
    {
     "data": {
      "text/plain": [
       "'Will {Dejounte Murray (SAS)} record a Double-Double?'"
      ]
     },
     "execution_count": 94,
     "metadata": {},
     "output_type": "execute_result"
    }
   ],
   "source": [
    "player_props.iloc[0]['descriptionKey']"
   ]
  },
  {
   "cell_type": "code",
   "execution_count": 95,
   "metadata": {
    "scrolled": false
   },
   "outputs": [
    {
     "data": {
      "text/plain": [
       "['Total Points, Rebounds and Assists', 'Stephen Curry (GSW)} (NBA)']"
      ]
     },
     "execution_count": 95,
     "metadata": {},
     "output_type": "execute_result"
    }
   ],
   "source": [
    "player_props.iloc[-7]['descriptionKey'].split(' - {')"
   ]
  },
  {
   "cell_type": "code",
   "execution_count": 96,
   "metadata": {},
   "outputs": [],
   "source": [
    "gsw_sas = teamgamelog.TeamGameLog(gsw_id)"
   ]
  },
  {
   "cell_type": "code",
   "execution_count": 97,
   "metadata": {},
   "outputs": [],
   "source": [
    "gsw_sas = gsw_sas.get_data_frames()[0]"
   ]
  },
  {
   "cell_type": "code",
   "execution_count": 98,
   "metadata": {
    "scrolled": false
   },
   "outputs": [
    {
     "data": {
      "text/html": [
       "<div>\n",
       "<style scoped>\n",
       "    .dataframe tbody tr th:only-of-type {\n",
       "        vertical-align: middle;\n",
       "    }\n",
       "\n",
       "    .dataframe tbody tr th {\n",
       "        vertical-align: top;\n",
       "    }\n",
       "\n",
       "    .dataframe thead th {\n",
       "        text-align: right;\n",
       "    }\n",
       "</style>\n",
       "<table border=\"1\" class=\"dataframe\">\n",
       "  <thead>\n",
       "    <tr style=\"text-align: right;\">\n",
       "      <th></th>\n",
       "      <th>Team_ID</th>\n",
       "      <th>Game_ID</th>\n",
       "      <th>GAME_DATE</th>\n",
       "      <th>MATCHUP</th>\n",
       "      <th>WL</th>\n",
       "      <th>W</th>\n",
       "      <th>L</th>\n",
       "      <th>W_PCT</th>\n",
       "      <th>MIN</th>\n",
       "      <th>FGM</th>\n",
       "      <th>FGA</th>\n",
       "      <th>FG_PCT</th>\n",
       "      <th>FG3M</th>\n",
       "      <th>FG3A</th>\n",
       "      <th>FG3_PCT</th>\n",
       "      <th>FTM</th>\n",
       "      <th>FTA</th>\n",
       "      <th>FT_PCT</th>\n",
       "      <th>OREB</th>\n",
       "      <th>DREB</th>\n",
       "      <th>REB</th>\n",
       "      <th>AST</th>\n",
       "      <th>STL</th>\n",
       "      <th>BLK</th>\n",
       "      <th>TOV</th>\n",
       "      <th>PF</th>\n",
       "      <th>PTS</th>\n",
       "    </tr>\n",
       "  </thead>\n",
       "  <tbody>\n",
       "    <tr>\n",
       "      <th>0</th>\n",
       "      <td>1610612744</td>\n",
       "      <td>0022000527</td>\n",
       "      <td>FEB 28, 2021</td>\n",
       "      <td>GSW @ LAL</td>\n",
       "      <td>L</td>\n",
       "      <td>19</td>\n",
       "      <td>16</td>\n",
       "      <td>0.543</td>\n",
       "      <td>240</td>\n",
       "      <td>35</td>\n",
       "      <td>86</td>\n",
       "      <td>0.407</td>\n",
       "      <td>8</td>\n",
       "      <td>34</td>\n",
       "      <td>0.235</td>\n",
       "      <td>13</td>\n",
       "      <td>19</td>\n",
       "      <td>0.684</td>\n",
       "      <td>3</td>\n",
       "      <td>32</td>\n",
       "      <td>35</td>\n",
       "      <td>26</td>\n",
       "      <td>10</td>\n",
       "      <td>4</td>\n",
       "      <td>20</td>\n",
       "      <td>25</td>\n",
       "      <td>91</td>\n",
       "    </tr>\n",
       "    <tr>\n",
       "      <th>1</th>\n",
       "      <td>1610612744</td>\n",
       "      <td>0022000511</td>\n",
       "      <td>FEB 26, 2021</td>\n",
       "      <td>GSW vs. CHA</td>\n",
       "      <td>W</td>\n",
       "      <td>19</td>\n",
       "      <td>15</td>\n",
       "      <td>0.559</td>\n",
       "      <td>240</td>\n",
       "      <td>48</td>\n",
       "      <td>79</td>\n",
       "      <td>0.608</td>\n",
       "      <td>11</td>\n",
       "      <td>24</td>\n",
       "      <td>0.458</td>\n",
       "      <td>23</td>\n",
       "      <td>25</td>\n",
       "      <td>0.920</td>\n",
       "      <td>4</td>\n",
       "      <td>33</td>\n",
       "      <td>37</td>\n",
       "      <td>38</td>\n",
       "      <td>10</td>\n",
       "      <td>3</td>\n",
       "      <td>23</td>\n",
       "      <td>19</td>\n",
       "      <td>130</td>\n",
       "    </tr>\n",
       "    <tr>\n",
       "      <th>2</th>\n",
       "      <td>1610612744</td>\n",
       "      <td>0022000489</td>\n",
       "      <td>FEB 24, 2021</td>\n",
       "      <td>GSW @ IND</td>\n",
       "      <td>W</td>\n",
       "      <td>18</td>\n",
       "      <td>15</td>\n",
       "      <td>0.545</td>\n",
       "      <td>240</td>\n",
       "      <td>39</td>\n",
       "      <td>83</td>\n",
       "      <td>0.470</td>\n",
       "      <td>5</td>\n",
       "      <td>26</td>\n",
       "      <td>0.192</td>\n",
       "      <td>28</td>\n",
       "      <td>31</td>\n",
       "      <td>0.903</td>\n",
       "      <td>8</td>\n",
       "      <td>33</td>\n",
       "      <td>41</td>\n",
       "      <td>27</td>\n",
       "      <td>10</td>\n",
       "      <td>4</td>\n",
       "      <td>18</td>\n",
       "      <td>25</td>\n",
       "      <td>111</td>\n",
       "    </tr>\n",
       "    <tr>\n",
       "      <th>3</th>\n",
       "      <td>1610612744</td>\n",
       "      <td>0022000483</td>\n",
       "      <td>FEB 23, 2021</td>\n",
       "      <td>GSW @ NYK</td>\n",
       "      <td>W</td>\n",
       "      <td>17</td>\n",
       "      <td>15</td>\n",
       "      <td>0.531</td>\n",
       "      <td>240</td>\n",
       "      <td>40</td>\n",
       "      <td>89</td>\n",
       "      <td>0.449</td>\n",
       "      <td>13</td>\n",
       "      <td>38</td>\n",
       "      <td>0.342</td>\n",
       "      <td>21</td>\n",
       "      <td>24</td>\n",
       "      <td>0.875</td>\n",
       "      <td>7</td>\n",
       "      <td>34</td>\n",
       "      <td>41</td>\n",
       "      <td>30</td>\n",
       "      <td>9</td>\n",
       "      <td>8</td>\n",
       "      <td>10</td>\n",
       "      <td>18</td>\n",
       "      <td>114</td>\n",
       "    </tr>\n",
       "    <tr>\n",
       "      <th>4</th>\n",
       "      <td>1610612744</td>\n",
       "      <td>0022000459</td>\n",
       "      <td>FEB 20, 2021</td>\n",
       "      <td>GSW @ CHA</td>\n",
       "      <td>L</td>\n",
       "      <td>16</td>\n",
       "      <td>15</td>\n",
       "      <td>0.516</td>\n",
       "      <td>240</td>\n",
       "      <td>37</td>\n",
       "      <td>85</td>\n",
       "      <td>0.435</td>\n",
       "      <td>13</td>\n",
       "      <td>39</td>\n",
       "      <td>0.333</td>\n",
       "      <td>13</td>\n",
       "      <td>17</td>\n",
       "      <td>0.765</td>\n",
       "      <td>9</td>\n",
       "      <td>30</td>\n",
       "      <td>39</td>\n",
       "      <td>23</td>\n",
       "      <td>10</td>\n",
       "      <td>3</td>\n",
       "      <td>14</td>\n",
       "      <td>12</td>\n",
       "      <td>100</td>\n",
       "    </tr>\n",
       "  </tbody>\n",
       "</table>\n",
       "</div>"
      ],
      "text/plain": [
       "      Team_ID     Game_ID     GAME_DATE      MATCHUP WL   W   L  W_PCT  MIN  \\\n",
       "0  1610612744  0022000527  FEB 28, 2021    GSW @ LAL  L  19  16  0.543  240   \n",
       "1  1610612744  0022000511  FEB 26, 2021  GSW vs. CHA  W  19  15  0.559  240   \n",
       "2  1610612744  0022000489  FEB 24, 2021    GSW @ IND  W  18  15  0.545  240   \n",
       "3  1610612744  0022000483  FEB 23, 2021    GSW @ NYK  W  17  15  0.531  240   \n",
       "4  1610612744  0022000459  FEB 20, 2021    GSW @ CHA  L  16  15  0.516  240   \n",
       "\n",
       "   FGM  FGA  FG_PCT  FG3M  FG3A  FG3_PCT  FTM  FTA  FT_PCT  OREB  DREB  REB  \\\n",
       "0   35   86   0.407     8    34    0.235   13   19   0.684     3    32   35   \n",
       "1   48   79   0.608    11    24    0.458   23   25   0.920     4    33   37   \n",
       "2   39   83   0.470     5    26    0.192   28   31   0.903     8    33   41   \n",
       "3   40   89   0.449    13    38    0.342   21   24   0.875     7    34   41   \n",
       "4   37   85   0.435    13    39    0.333   13   17   0.765     9    30   39   \n",
       "\n",
       "   AST  STL  BLK  TOV  PF  PTS  \n",
       "0   26   10    4   20  25   91  \n",
       "1   38   10    3   23  19  130  \n",
       "2   27   10    4   18  25  111  \n",
       "3   30    9    8   10  18  114  \n",
       "4   23   10    3   14  12  100  "
      ]
     },
     "execution_count": 98,
     "metadata": {},
     "output_type": "execute_result"
    }
   ],
   "source": [
    "gsw_sas.head()"
   ]
  },
  {
   "cell_type": "code",
   "execution_count": null,
   "metadata": {},
   "outputs": [],
   "source": []
  },
  {
   "cell_type": "code",
   "execution_count": 101,
   "metadata": {},
   "outputs": [],
   "source": [
    "game_datetime = pd.to_datetime(re.findall(r'\\d+', df['link'][0])[0][:8])"
   ]
  },
  {
   "cell_type": "code",
   "execution_count": 102,
   "metadata": {},
   "outputs": [
    {
     "data": {
      "text/plain": [
       "Timestamp('2021-02-09 00:00:00')"
      ]
     },
     "execution_count": 102,
     "metadata": {},
     "output_type": "execute_result"
    }
   ],
   "source": [
    "game_datetime"
   ]
  },
  {
   "cell_type": "code",
   "execution_count": 103,
   "metadata": {},
   "outputs": [],
   "source": [
    "player_props['GAME_DATE'] = game_datetime"
   ]
  },
  {
   "cell_type": "code",
   "execution_count": 104,
   "metadata": {
    "scrolled": false
   },
   "outputs": [
    {
     "data": {
      "text/html": [
       "<div>\n",
       "<style scoped>\n",
       "    .dataframe tbody tr th:only-of-type {\n",
       "        vertical-align: middle;\n",
       "    }\n",
       "\n",
       "    .dataframe tbody tr th {\n",
       "        vertical-align: top;\n",
       "    }\n",
       "\n",
       "    .dataframe thead th {\n",
       "        text-align: right;\n",
       "    }\n",
       "</style>\n",
       "<table border=\"1\" class=\"dataframe\">\n",
       "  <thead>\n",
       "    <tr style=\"text-align: right;\">\n",
       "      <th></th>\n",
       "      <th>id</th>\n",
       "      <th>descriptionKey</th>\n",
       "      <th>description</th>\n",
       "      <th>key</th>\n",
       "      <th>marketTypeId</th>\n",
       "      <th>outcomes</th>\n",
       "      <th>period.id</th>\n",
       "      <th>period.description</th>\n",
       "      <th>period.main</th>\n",
       "      <th>yes</th>\n",
       "      <th>no</th>\n",
       "      <th>outcome_yes_id</th>\n",
       "      <th>outcome_no_id</th>\n",
       "      <th>handicap</th>\n",
       "      <th>player_prop_odds</th>\n",
       "      <th>player_name</th>\n",
       "      <th>player_team</th>\n",
       "      <th>opp_team</th>\n",
       "      <th>GAME_DATE</th>\n",
       "    </tr>\n",
       "  </thead>\n",
       "  <tbody>\n",
       "    <tr>\n",
       "      <th>0</th>\n",
       "      <td>144144463</td>\n",
       "      <td>Will {Dejounte Murray (SAS)} record a Double-D...</td>\n",
       "      <td>Will Dejounte Murray (SAS) record a Double-Dou...</td>\n",
       "      <td>GAME-PROP-12</td>\n",
       "      <td>-1093</td>\n",
       "      <td>[{'id': '773861571', 'description': 'Yes', 'st...</td>\n",
       "      <td>209</td>\n",
       "      <td>Game</td>\n",
       "      <td>True</td>\n",
       "      <td>+235</td>\n",
       "      <td>-330</td>\n",
       "      <td>773861571</td>\n",
       "      <td>773861572</td>\n",
       "      <td>NaN</td>\n",
       "      <td>+235|-330</td>\n",
       "      <td>Dejounte Murray</td>\n",
       "      <td>SAS</td>\n",
       "      <td>GSW</td>\n",
       "      <td>2021-02-09</td>\n",
       "    </tr>\n",
       "  </tbody>\n",
       "</table>\n",
       "</div>"
      ],
      "text/plain": [
       "          id                                     descriptionKey  \\\n",
       "0  144144463  Will {Dejounte Murray (SAS)} record a Double-D...   \n",
       "\n",
       "                                         description           key  \\\n",
       "0  Will Dejounte Murray (SAS) record a Double-Dou...  GAME-PROP-12   \n",
       "\n",
       "  marketTypeId                                           outcomes period.id  \\\n",
       "0        -1093  [{'id': '773861571', 'description': 'Yes', 'st...       209   \n",
       "\n",
       "  period.description  period.main   yes    no outcome_yes_id outcome_no_id  \\\n",
       "0               Game         True  +235  -330      773861571     773861572   \n",
       "\n",
       "  handicap player_prop_odds       player_name player_team opp_team  GAME_DATE  \n",
       "0      NaN        +235|-330  Dejounte Murray          SAS      GSW 2021-02-09  "
      ]
     },
     "execution_count": 104,
     "metadata": {},
     "output_type": "execute_result"
    }
   ],
   "source": [
    "player_props.head(1)"
   ]
  },
  {
   "cell_type": "code",
   "execution_count": 105,
   "metadata": {},
   "outputs": [],
   "source": [
    "player_props['MATCHUP'] = player_props['player_team'] + ' @ ' + player_props['opp_team']"
   ]
  },
  {
   "cell_type": "code",
   "execution_count": 107,
   "metadata": {},
   "outputs": [],
   "source": [
    "prop_action = ['Double-Double, Total Points', 'Total Rebounds and Assists',\n",
    "              'Total Points, Rebounds and Assists', 'Total Made 3 Point Shots']"
   ]
  },
  {
   "cell_type": "markdown",
   "metadata": {},
   "source": [
    "for i in player_props['descriptionKey']:\n",
    "    if i in prop_action:\n",
    "        print(prop_action)\n",
    "    else:\n",
    "        print('not here')"
   ]
  },
  {
   "cell_type": "code",
   "execution_count": 108,
   "metadata": {},
   "outputs": [],
   "source": [
    "def getPlayerStats(player_name):\n",
    "    gets_player_name = [player for player in player_dict if player['full_name'] == player_name][0]\n",
    "    player_name_id = gets_player_name['id']\n",
    "    df_player = playergamelog.PlayerGameLog(player_name_id).get_data_frames()[0]\n",
    "    df_player['PAR'] = df_player['PTS'] + df_player['AST'] + df_player['REB']\n",
    "    df_player['PA'] = df_player['PTS'] + df_player['AST']\n",
    "    return df_player"
   ]
  },
  {
   "cell_type": "markdown",
   "metadata": {},
   "source": [
    "---"
   ]
  },
  {
   "cell_type": "code",
   "execution_count": 110,
   "metadata": {},
   "outputs": [],
   "source": [
    "players_df = pd.DataFrame(data.players)"
   ]
  },
  {
   "cell_type": "code",
   "execution_count": 111,
   "metadata": {},
   "outputs": [],
   "source": [
    "players_df.columns = ['player_id','player_lastname','player_first_name','player_fullname','player_active']"
   ]
  },
  {
   "cell_type": "code",
   "execution_count": 112,
   "metadata": {},
   "outputs": [],
   "source": [
    "active_players_df = players_df[players_df['player_active'] == True]"
   ]
  },
  {
   "cell_type": "code",
   "execution_count": 114,
   "metadata": {},
   "outputs": [],
   "source": [
    "teams_df = pd.DataFrame(data.teams)"
   ]
  },
  {
   "cell_type": "code",
   "execution_count": 115,
   "metadata": {},
   "outputs": [],
   "source": [
    "teams_df.columns = ['team_id','team_abb','team_nickname','team_yr','team_city','team_fullname','team_state']"
   ]
  },
  {
   "cell_type": "code",
   "execution_count": 116,
   "metadata": {},
   "outputs": [],
   "source": [
    "teams_df.drop('team_yr',inplace=True,axis=1)"
   ]
  },
  {
   "cell_type": "code",
   "execution_count": 119,
   "metadata": {},
   "outputs": [
    {
     "data": {
      "text/plain": [
       "5    1610612742\n",
       "Name: team_id, dtype: int64"
      ]
     },
     "execution_count": 119,
     "metadata": {},
     "output_type": "execute_result"
    }
   ],
   "source": [
    "teams_df[teams_df['team_abb'] == 'DAL']['team_id']"
   ]
  },
  {
   "cell_type": "code",
   "execution_count": 120,
   "metadata": {},
   "outputs": [],
   "source": [
    "def get_teams_id(teams_abb):\n",
    "    teams_list = []\n",
    "    for team in teams_abb:\n",
    "        teams_list.append(teams_df[teams_df['team_abb'] == team]['team_id'].item())\n",
    "    return teams_list\n",
    "\n",
    "def get_teams_abb(teams_id):\n",
    "    teams_list = []\n",
    "    for team in teams_id:\n",
    "        teams_list.append(teams_df[teams_df['team_id'] == team]['team_abb'].item())\n",
    "    return teams_list"
   ]
  },
  {
   "cell_type": "code",
   "execution_count": 121,
   "metadata": {
    "scrolled": false
   },
   "outputs": [
    {
     "data": {
      "text/plain": [
       "[1610612742, 1610612740]"
      ]
     },
     "execution_count": 121,
     "metadata": {},
     "output_type": "execute_result"
    }
   ],
   "source": [
    "get_teams_id(['DAL', 'NOP'])"
   ]
  },
  {
   "cell_type": "code",
   "execution_count": 122,
   "metadata": {},
   "outputs": [
    {
     "data": {
      "text/plain": [
       "['DAL', 'NOP']"
      ]
     },
     "execution_count": 122,
     "metadata": {},
     "output_type": "execute_result"
    }
   ],
   "source": [
    "get_teams_abb([1610612742, 1610612740])"
   ]
  },
  {
   "cell_type": "code",
   "execution_count": 123,
   "metadata": {},
   "outputs": [],
   "source": [
    "df1 = teams_df[teams_df['team_abb'] == 'BOS']\n",
    "df2 = teams_df[teams_df['team_abb'] == 'NOP']"
   ]
  },
  {
   "cell_type": "code",
   "execution_count": 124,
   "metadata": {
    "scrolled": true
   },
   "outputs": [
    {
     "data": {
      "text/html": [
       "<div>\n",
       "<style scoped>\n",
       "    .dataframe tbody tr th:only-of-type {\n",
       "        vertical-align: middle;\n",
       "    }\n",
       "\n",
       "    .dataframe tbody tr th {\n",
       "        vertical-align: top;\n",
       "    }\n",
       "\n",
       "    .dataframe thead th {\n",
       "        text-align: right;\n",
       "    }\n",
       "</style>\n",
       "<table border=\"1\" class=\"dataframe\">\n",
       "  <thead>\n",
       "    <tr style=\"text-align: right;\">\n",
       "      <th></th>\n",
       "      <th>team_id</th>\n",
       "      <th>team_abb</th>\n",
       "      <th>team_nickname</th>\n",
       "      <th>team_city</th>\n",
       "      <th>team_fullname</th>\n",
       "      <th>team_state</th>\n",
       "    </tr>\n",
       "  </thead>\n",
       "  <tbody>\n",
       "    <tr>\n",
       "      <th>1</th>\n",
       "      <td>1610612738</td>\n",
       "      <td>BOS</td>\n",
       "      <td>Celtics</td>\n",
       "      <td>Boston</td>\n",
       "      <td>Boston Celtics</td>\n",
       "      <td>Massachusetts</td>\n",
       "    </tr>\n",
       "    <tr>\n",
       "      <th>3</th>\n",
       "      <td>1610612740</td>\n",
       "      <td>NOP</td>\n",
       "      <td>Pelicans</td>\n",
       "      <td>New Orleans</td>\n",
       "      <td>New Orleans Pelicans</td>\n",
       "      <td>Louisiana</td>\n",
       "    </tr>\n",
       "  </tbody>\n",
       "</table>\n",
       "</div>"
      ],
      "text/plain": [
       "      team_id team_abb team_nickname    team_city         team_fullname  \\\n",
       "1  1610612738      BOS       Celtics       Boston        Boston Celtics   \n",
       "3  1610612740      NOP      Pelicans  New Orleans  New Orleans Pelicans   \n",
       "\n",
       "      team_state  \n",
       "1  Massachusetts  \n",
       "3      Louisiana  "
      ]
     },
     "execution_count": 124,
     "metadata": {},
     "output_type": "execute_result"
    }
   ],
   "source": [
    "pd.concat([df1,df2])"
   ]
  },
  {
   "cell_type": "code",
   "execution_count": 125,
   "metadata": {},
   "outputs": [],
   "source": [
    "def getTeamRecentGames(team_abb):\n",
    "    gets_team_name = [team for team in team_dict if team['abbreviation'] == team_abb][0]\n",
    "    team_name_id = gets_team_name['id']\n",
    "    df_team = teamgamelog.TeamGameLog(team_name_id).get_data_frames()[0]\n",
    "    return df_team"
   ]
  },
  {
   "cell_type": "code",
   "execution_count": 126,
   "metadata": {},
   "outputs": [
    {
     "data": {
      "text/html": [
       "<div>\n",
       "<style scoped>\n",
       "    .dataframe tbody tr th:only-of-type {\n",
       "        vertical-align: middle;\n",
       "    }\n",
       "\n",
       "    .dataframe tbody tr th {\n",
       "        vertical-align: top;\n",
       "    }\n",
       "\n",
       "    .dataframe thead th {\n",
       "        text-align: right;\n",
       "    }\n",
       "</style>\n",
       "<table border=\"1\" class=\"dataframe\">\n",
       "  <thead>\n",
       "    <tr style=\"text-align: right;\">\n",
       "      <th></th>\n",
       "      <th>Team_ID</th>\n",
       "      <th>Game_ID</th>\n",
       "      <th>GAME_DATE</th>\n",
       "      <th>MATCHUP</th>\n",
       "      <th>WL</th>\n",
       "      <th>W</th>\n",
       "      <th>L</th>\n",
       "      <th>W_PCT</th>\n",
       "      <th>MIN</th>\n",
       "      <th>FGM</th>\n",
       "      <th>FGA</th>\n",
       "      <th>FG_PCT</th>\n",
       "      <th>FG3M</th>\n",
       "      <th>FG3A</th>\n",
       "      <th>FG3_PCT</th>\n",
       "      <th>FTM</th>\n",
       "      <th>FTA</th>\n",
       "      <th>FT_PCT</th>\n",
       "      <th>OREB</th>\n",
       "      <th>DREB</th>\n",
       "      <th>REB</th>\n",
       "      <th>AST</th>\n",
       "      <th>STL</th>\n",
       "      <th>BLK</th>\n",
       "      <th>TOV</th>\n",
       "      <th>PF</th>\n",
       "      <th>PTS</th>\n",
       "    </tr>\n",
       "  </thead>\n",
       "  <tbody>\n",
       "    <tr>\n",
       "      <th>0</th>\n",
       "      <td>1610612740</td>\n",
       "      <td>0022000533</td>\n",
       "      <td>MAR 01, 2021</td>\n",
       "      <td>NOP vs. UTA</td>\n",
       "      <td>W</td>\n",
       "      <td>15</td>\n",
       "      <td>19</td>\n",
       "      <td>0.441</td>\n",
       "      <td>240</td>\n",
       "      <td>52</td>\n",
       "      <td>92</td>\n",
       "      <td>0.565</td>\n",
       "      <td>7</td>\n",
       "      <td>11</td>\n",
       "      <td>0.636</td>\n",
       "      <td>18</td>\n",
       "      <td>23</td>\n",
       "      <td>0.783</td>\n",
       "      <td>10</td>\n",
       "      <td>43</td>\n",
       "      <td>53</td>\n",
       "      <td>27</td>\n",
       "      <td>5</td>\n",
       "      <td>5</td>\n",
       "      <td>13</td>\n",
       "      <td>15</td>\n",
       "      <td>129</td>\n",
       "    </tr>\n",
       "    <tr>\n",
       "      <th>1</th>\n",
       "      <td>1610612740</td>\n",
       "      <td>0022000514</td>\n",
       "      <td>FEB 27, 2021</td>\n",
       "      <td>NOP @ SAS</td>\n",
       "      <td>L</td>\n",
       "      <td>14</td>\n",
       "      <td>19</td>\n",
       "      <td>0.424</td>\n",
       "      <td>240</td>\n",
       "      <td>40</td>\n",
       "      <td>91</td>\n",
       "      <td>0.440</td>\n",
       "      <td>9</td>\n",
       "      <td>32</td>\n",
       "      <td>0.281</td>\n",
       "      <td>25</td>\n",
       "      <td>31</td>\n",
       "      <td>0.806</td>\n",
       "      <td>17</td>\n",
       "      <td>35</td>\n",
       "      <td>52</td>\n",
       "      <td>27</td>\n",
       "      <td>3</td>\n",
       "      <td>2</td>\n",
       "      <td>10</td>\n",
       "      <td>17</td>\n",
       "      <td>114</td>\n",
       "    </tr>\n",
       "  </tbody>\n",
       "</table>\n",
       "</div>"
      ],
      "text/plain": [
       "      Team_ID     Game_ID     GAME_DATE      MATCHUP WL   W   L  W_PCT  MIN  \\\n",
       "0  1610612740  0022000533  MAR 01, 2021  NOP vs. UTA  W  15  19  0.441  240   \n",
       "1  1610612740  0022000514  FEB 27, 2021    NOP @ SAS  L  14  19  0.424  240   \n",
       "\n",
       "   FGM  FGA  FG_PCT  FG3M  FG3A  FG3_PCT  FTM  FTA  FT_PCT  OREB  DREB  REB  \\\n",
       "0   52   92   0.565     7    11    0.636   18   23   0.783    10    43   53   \n",
       "1   40   91   0.440     9    32    0.281   25   31   0.806    17    35   52   \n",
       "\n",
       "   AST  STL  BLK  TOV  PF  PTS  \n",
       "0   27    5    5   13  15  129  \n",
       "1   27    3    2   10  17  114  "
      ]
     },
     "execution_count": 126,
     "metadata": {},
     "output_type": "execute_result"
    }
   ],
   "source": [
    "getTeamRecentGames('NOP').head(2)"
   ]
  },
  {
   "cell_type": "code",
   "execution_count": 127,
   "metadata": {},
   "outputs": [
    {
     "data": {
      "text/html": [
       "<div>\n",
       "<style scoped>\n",
       "    .dataframe tbody tr th:only-of-type {\n",
       "        vertical-align: middle;\n",
       "    }\n",
       "\n",
       "    .dataframe tbody tr th {\n",
       "        vertical-align: top;\n",
       "    }\n",
       "\n",
       "    .dataframe thead th {\n",
       "        text-align: right;\n",
       "    }\n",
       "</style>\n",
       "<table border=\"1\" class=\"dataframe\">\n",
       "  <thead>\n",
       "    <tr style=\"text-align: right;\">\n",
       "      <th></th>\n",
       "      <th>Team_ID</th>\n",
       "      <th>Game_ID</th>\n",
       "      <th>GAME_DATE</th>\n",
       "      <th>MATCHUP</th>\n",
       "      <th>WL</th>\n",
       "      <th>W</th>\n",
       "      <th>L</th>\n",
       "      <th>W_PCT</th>\n",
       "      <th>MIN</th>\n",
       "      <th>FGM</th>\n",
       "      <th>FGA</th>\n",
       "      <th>FG_PCT</th>\n",
       "      <th>FG3M</th>\n",
       "      <th>FG3A</th>\n",
       "      <th>FG3_PCT</th>\n",
       "      <th>FTM</th>\n",
       "      <th>FTA</th>\n",
       "      <th>FT_PCT</th>\n",
       "      <th>OREB</th>\n",
       "      <th>DREB</th>\n",
       "      <th>REB</th>\n",
       "      <th>AST</th>\n",
       "      <th>STL</th>\n",
       "      <th>BLK</th>\n",
       "      <th>TOV</th>\n",
       "      <th>PF</th>\n",
       "      <th>PTS</th>\n",
       "    </tr>\n",
       "  </thead>\n",
       "  <tbody>\n",
       "    <tr>\n",
       "      <th>0</th>\n",
       "      <td>1610612742</td>\n",
       "      <td>0022000529</td>\n",
       "      <td>MAR 01, 2021</td>\n",
       "      <td>DAL @ ORL</td>\n",
       "      <td>W</td>\n",
       "      <td>17</td>\n",
       "      <td>16</td>\n",
       "      <td>0.515</td>\n",
       "      <td>240</td>\n",
       "      <td>47</td>\n",
       "      <td>90</td>\n",
       "      <td>0.522</td>\n",
       "      <td>17</td>\n",
       "      <td>46</td>\n",
       "      <td>0.370</td>\n",
       "      <td>19</td>\n",
       "      <td>23</td>\n",
       "      <td>0.826</td>\n",
       "      <td>7</td>\n",
       "      <td>39</td>\n",
       "      <td>46</td>\n",
       "      <td>29</td>\n",
       "      <td>6</td>\n",
       "      <td>6</td>\n",
       "      <td>8</td>\n",
       "      <td>12</td>\n",
       "      <td>130</td>\n",
       "    </tr>\n",
       "    <tr>\n",
       "      <th>1</th>\n",
       "      <td>1610612742</td>\n",
       "      <td>0022000519</td>\n",
       "      <td>FEB 27, 2021</td>\n",
       "      <td>DAL @ BKN</td>\n",
       "      <td>W</td>\n",
       "      <td>16</td>\n",
       "      <td>16</td>\n",
       "      <td>0.500</td>\n",
       "      <td>240</td>\n",
       "      <td>45</td>\n",
       "      <td>86</td>\n",
       "      <td>0.523</td>\n",
       "      <td>14</td>\n",
       "      <td>36</td>\n",
       "      <td>0.389</td>\n",
       "      <td>11</td>\n",
       "      <td>17</td>\n",
       "      <td>0.647</td>\n",
       "      <td>6</td>\n",
       "      <td>30</td>\n",
       "      <td>36</td>\n",
       "      <td>23</td>\n",
       "      <td>12</td>\n",
       "      <td>8</td>\n",
       "      <td>8</td>\n",
       "      <td>15</td>\n",
       "      <td>115</td>\n",
       "    </tr>\n",
       "  </tbody>\n",
       "</table>\n",
       "</div>"
      ],
      "text/plain": [
       "      Team_ID     Game_ID     GAME_DATE    MATCHUP WL   W   L  W_PCT  MIN  \\\n",
       "0  1610612742  0022000529  MAR 01, 2021  DAL @ ORL  W  17  16  0.515  240   \n",
       "1  1610612742  0022000519  FEB 27, 2021  DAL @ BKN  W  16  16  0.500  240   \n",
       "\n",
       "   FGM  FGA  FG_PCT  FG3M  FG3A  FG3_PCT  FTM  FTA  FT_PCT  OREB  DREB  REB  \\\n",
       "0   47   90   0.522    17    46    0.370   19   23   0.826     7    39   46   \n",
       "1   45   86   0.523    14    36    0.389   11   17   0.647     6    30   36   \n",
       "\n",
       "   AST  STL  BLK  TOV  PF  PTS  \n",
       "0   29    6    6    8  12  130  \n",
       "1   23   12    8    8  15  115  "
      ]
     },
     "execution_count": 127,
     "metadata": {},
     "output_type": "execute_result"
    }
   ],
   "source": [
    "getTeamRecentGames('DAL').head(2)"
   ]
  },
  {
   "cell_type": "code",
   "execution_count": null,
   "metadata": {},
   "outputs": [],
   "source": []
  },
  {
   "cell_type": "code",
   "execution_count": null,
   "metadata": {},
   "outputs": [],
   "source": []
  },
  {
   "cell_type": "code",
   "execution_count": null,
   "metadata": {},
   "outputs": [],
   "source": []
  }
 ],
 "metadata": {
  "kernelspec": {
   "display_name": "Python 3",
   "language": "python",
   "name": "python3"
  },
  "language_info": {
   "codemirror_mode": {
    "name": "ipython",
    "version": 3
   },
   "file_extension": ".py",
   "mimetype": "text/x-python",
   "name": "python",
   "nbconvert_exporter": "python",
   "pygments_lexer": "ipython3",
   "version": "3.8.5"
  }
 },
 "nbformat": 4,
 "nbformat_minor": 4
}
